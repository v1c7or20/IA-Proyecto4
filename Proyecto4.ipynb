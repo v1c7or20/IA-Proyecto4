{
  "cells": [
    {
      "cell_type": "code",
      "execution_count": 1,
      "metadata": {
        "colab": {
          "base_uri": "https://localhost:8080/"
        },
        "id": "yuAbyNBLQhoe",
        "outputId": "64c06af0-0d71-4e9e-a7db-69fbeebbc555"
      },
      "outputs": [
        {
          "name": "stderr",
          "output_type": "stream",
          "text": [
            "/home/ubuntu/anaconda3/envs/utec-bigdata-2022-1/lib/python3.7/site-packages/tqdm/auto.py:22: TqdmWarning: IProgress not found. Please update jupyter and ipywidgets. See https://ipywidgets.readthedocs.io/en/stable/user_install.html\n",
            "  from .autonotebook import tqdm as notebook_tqdm\n"
          ]
        },
        {
          "name": "stdout",
          "output_type": "stream",
          "text": [
            "cuda:0\n"
          ]
        }
      ],
      "source": [
        "import torch \n",
        "import torch.nn as nn\n",
        "import torchvision\n",
        "import torchvision.transforms as transforms\n",
        "import matplotlib.pyplot as plt\n",
        "import numpy as np \n",
        "import math \n",
        "import os\n",
        "import cv2\n",
        "from sklearn.model_selection import train_test_split\n",
        "import pandas as pd \n",
        "from torch.utils.data import Dataset, DataLoader\n",
        "from torchvision import transforms, datasets, models\n",
        "\n",
        "batch_size = 64\n",
        "\n",
        "device = torch.device('cuda:0' if torch.cuda.is_available() else 'cpu')\n",
        "print(device)\n",
        "\n",
        "torch.manual_seed(42)\n",
        "\n",
        "dataset = \"./COVID-19_Radiography_Dataset\""
      ]
    },
    {
      "cell_type": "code",
      "execution_count": 2,
      "metadata": {
        "id": "IV_g-39p5XpZ"
      },
      "outputs": [],
      "source": [
        "cathegories = ['Normal/images', 'COVID/images', 'Viral Pneumonia/images', 'Lung_Opacity/images']\n",
        "data_dir = os.path.join(dataset)\n",
        "\n",
        "data = []\n",
        "\n",
        "for category in cathegories:\n",
        "    for img in os.listdir(os.path.join(data_dir, category)):\n",
        "        data.append([category + '/' + img, category])\n",
        "\n",
        "\"\"\"\n",
        "Creacion de dataset con las imagenes, no se usan las mascaras\n",
        "\"\"\"\n",
        "\n",
        "data = pd.DataFrame(data, columns = ['img', 'category'])\n",
        "data['path'] = dataset + '/' + data['img']\n",
        "data['category'] = data['category'].map({'Normal/images': 0, 'COVID/images': 1, 'Viral Pneumonia/images': 2, 'Lung_Opacity/images': 3})\n",
        "data = data[['path', 'category']]\n",
        "data = data.sample(frac=1, random_state=42).reset_index(drop=True)\n",
        "data.head()\n",
        "data_np = data.to_numpy()"
      ]
    },
    {
      "cell_type": "code",
      "execution_count": 3,
      "metadata": {
        "colab": {
          "base_uri": "https://localhost:8080/"
        },
        "id": "dQzkdWeFxXI9",
        "outputId": "e2006d34-638f-4af2-9bda-a9025eb8fdb5"
      },
      "outputs": [
        {
          "name": "stdout",
          "output_type": "stream",
          "text": [
            "tensor([299, 299])\n"
          ]
        }
      ],
      "source": [
        "print(torch.tensor(cv2.imread(data_np[1,0],0).shape))"
      ]
    },
    {
      "cell_type": "code",
      "execution_count": 4,
      "metadata": {
        "id": "oKD5__857t9W"
      },
      "outputs": [],
      "source": [
        "#Obtenido de https://discuss.pytorch.org/t/simple-efficient-way-to-create-dataset/65178\n",
        "\"\"\"\n",
        "Se crea un clase Dataset para usarla dentro del entrenamiento de los modelos CNN\n",
        "\"\"\"\n",
        "class MyDataClass(Dataset):\n",
        "    def __init__(self, array_np, transform=None):\n",
        "        super(MyDataClass, self).__init__()\n",
        "        self.data = array_np   \n",
        "\n",
        "    def __getitem__(self, idx):\n",
        "        img = cv2.imread(self.data[idx,0],0)\n",
        "        img = cv2.resize(img, (50, 50))\n",
        "        x = torch.tensor(img)\n",
        "        y = torch.tensor(self.data[idx,1])\n",
        "        return x, y\n",
        "\n",
        "    def __len__(self):\n",
        "        return (self.data.shape[0])\n",
        "\n",
        "x = cv2.imread(data_np[1][0], 0)\n",
        "y = data_np[1][1]\n",
        "X_train, X_rest, y_train, y_rest = train_test_split(data_np[:,0], data_np[:,1], test_size=0.3, shuffle=True)\n",
        "X_val, X_test, y_val, y_test = train_test_split(X_rest, y_rest, test_size=0.33, shuffle=True)\n",
        "\n",
        "train = np.c_[X_train, y_train]\n",
        "validation = np.c_[X_val, y_val]\n",
        "test = np.c_[X_test, y_test]\n",
        "\n",
        "train_loader = MyDataClass(train)\n",
        "test_loader = MyDataClass(test)\n",
        "validation_loader =  MyDataClass(validation)\n",
        "\n",
        "train_loader = torch.utils.data.DataLoader(dataset=train_loader, batch_size=batch_size, shuffle=True)\n",
        "test_loader = torch.utils.data.DataLoader(dataset=test_loader, batch_size=batch_size, shuffle=False)\n",
        "validation_loader = torch.utils.data.DataLoader(dataset=validation_loader, batch_size=batch_size, shuffle=False)\n"
      ]
    },
    {
      "cell_type": "code",
      "execution_count": 4,
      "metadata": {},
      "outputs": [],
      "source": [
        "num_classes = 4\n",
        "learning_rate = 0.001\n",
        "num_epochs = 20\n"
      ]
    },
    {
      "cell_type": "code",
      "execution_count": 12,
      "metadata": {
        "id": "rEPOn6GuQquE"
      },
      "outputs": [],
      "source": [
        "num_classes = 4\n",
        "learning_rate = 0.001\n",
        "num_epochs = 20\n",
        "\n",
        "\"\"\"\n",
        "Modelo de CNN 2 capas\n",
        "\"\"\"\n",
        "class CNN(nn.Module ):\n",
        "  def __init__ (self , num_classes =4):\n",
        "    super (CNN , self).__init__ ()\n",
        "    self. layer1 = nn.Sequential (\n",
        "      nn.Conv2d ( in_channels =1, out_channels =16, kernel_size =3, stride =1, padding =2) ,\n",
        "      nn.ReLU (),\n",
        "      nn.MaxPool2d ( kernel_size =2, stride =2))\n",
        "    self. layer2 = nn. Sequential (\n",
        "      nn.Conv2d (in_channels=16, out_channels=32, kernel_size =5, stride =1, padding =2) ,\n",
        "      nn.ReLU (),\n",
        "      nn.MaxPool2d ( kernel_size =2, stride =2))\n",
        "    self.fc = nn.Linear (13*13*32 , num_classes )\n",
        "\n",
        "  def forward (self , x):\n",
        "    out = self. layer1 (x)\n",
        "    out = self. layer2 (out)\n",
        "    out = out. reshape (out.size (0) , -1)\n",
        "    out = self.fc(out)\n",
        "    return out"
      ]
    },
    {
      "cell_type": "code",
      "execution_count": 17,
      "metadata": {
        "id": "2ePatK0kRmtY"
      },
      "outputs": [],
      "source": [
        "\"\"\"\n",
        "Entrenamiento para los modelos\n",
        "\"\"\"\n",
        "\n",
        "def train(model, optimizer, loos_fn, num_epochs, train_loader):\n",
        "  loss_vals = []\n",
        "  running_loss =0.0\n",
        "  # train the model\n",
        "  total_step = len(train_loader)\n",
        "\n",
        "  list_loss= []\n",
        "  list_time = []\n",
        "  j=0\n",
        "\n",
        "  for epoch in range(num_epochs):\n",
        "    for i, (images, labels) in enumerate(train_loader):\n",
        "      images = images.to(device)\n",
        "      labels = labels.to(device)\n",
        "      images = torch.unsqueeze(images, dim=1)\n",
        "      images = images.float()      \n",
        "      # forward \n",
        "      output = model(images)\n",
        "      loss   = loos_fn(output, labels)\n",
        "      # change the params\n",
        "      optimizer.zero_grad()\n",
        "      loss.backward()\n",
        "      optimizer.step()\n",
        "\n",
        "      list_time.append(j)\n",
        "      j+=1\n",
        "              \n",
        "      if (i+1) % 100 == 0:\n",
        "        list_loss.append(loss.item())\n",
        "        print ('Epoch [{}/{}], Step [{}/{}], Loss: {:.4f}' \n",
        "                    .format(epoch+1, num_epochs, i+1, total_step, loss.item()))\n",
        "              \n",
        "  print('Finished Training Trainset')\n",
        "  return list_loss\n"
      ]
    },
    {
      "cell_type": "code",
      "execution_count": 14,
      "metadata": {
        "colab": {
          "base_uri": "https://localhost:8080/"
        },
        "id": "8tybcMj5RtH2",
        "outputId": "fc9fcfd5-be22-45d4-a030-3b7a61197bc3"
      },
      "outputs": [
        {
          "name": "stdout",
          "output_type": "stream",
          "text": [
            "Epoch [1/20], Step [100/232], Loss: 0.9926\n",
            "Epoch [1/20], Step [200/232], Loss: 0.7076\n",
            "Epoch [2/20], Step [100/232], Loss: 0.5479\n",
            "Epoch [2/20], Step [200/232], Loss: 0.6863\n",
            "Epoch [3/20], Step [100/232], Loss: 0.5826\n",
            "Epoch [3/20], Step [200/232], Loss: 0.7606\n",
            "Epoch [4/20], Step [100/232], Loss: 0.5663\n",
            "Epoch [4/20], Step [200/232], Loss: 0.5993\n",
            "Epoch [5/20], Step [100/232], Loss: 0.6115\n",
            "Epoch [5/20], Step [200/232], Loss: 0.5754\n",
            "Epoch [6/20], Step [100/232], Loss: 0.5501\n",
            "Epoch [6/20], Step [200/232], Loss: 0.7001\n",
            "Epoch [7/20], Step [100/232], Loss: 0.5072\n",
            "Epoch [7/20], Step [200/232], Loss: 0.6855\n",
            "Epoch [8/20], Step [100/232], Loss: 0.5315\n",
            "Epoch [8/20], Step [200/232], Loss: 0.4598\n",
            "Epoch [9/20], Step [100/232], Loss: 0.4802\n",
            "Epoch [9/20], Step [200/232], Loss: 0.3372\n",
            "Epoch [10/20], Step [100/232], Loss: 0.3683\n",
            "Epoch [10/20], Step [200/232], Loss: 0.4542\n",
            "Epoch [11/20], Step [100/232], Loss: 0.5271\n",
            "Epoch [11/20], Step [200/232], Loss: 0.4112\n",
            "Epoch [12/20], Step [100/232], Loss: 0.3709\n",
            "Epoch [12/20], Step [200/232], Loss: 0.2950\n",
            "Epoch [13/20], Step [100/232], Loss: 0.3015\n",
            "Epoch [13/20], Step [200/232], Loss: 0.4055\n",
            "Epoch [14/20], Step [100/232], Loss: 0.3808\n",
            "Epoch [14/20], Step [200/232], Loss: 0.4237\n",
            "Epoch [15/20], Step [100/232], Loss: 0.1997\n",
            "Epoch [15/20], Step [200/232], Loss: 0.3607\n",
            "Epoch [16/20], Step [100/232], Loss: 0.2239\n",
            "Epoch [16/20], Step [200/232], Loss: 0.2017\n",
            "Epoch [17/20], Step [100/232], Loss: 0.4279\n",
            "Epoch [17/20], Step [200/232], Loss: 0.2941\n",
            "Epoch [18/20], Step [100/232], Loss: 0.3479\n",
            "Epoch [18/20], Step [200/232], Loss: 0.2687\n",
            "Epoch [19/20], Step [100/232], Loss: 0.3454\n",
            "Epoch [19/20], Step [200/232], Loss: 0.2634\n",
            "Epoch [20/20], Step [100/232], Loss: 0.2860\n",
            "Epoch [20/20], Step [200/232], Loss: 0.5469\n",
            "Finished Training Trainset\n"
          ]
        }
      ],
      "source": [
        "\"\"\"\n",
        "Entrenamiento de CNN 2 capas\n",
        "\"\"\"\n",
        "model         = CNN().to(device)\n",
        "loss_fn       = nn.CrossEntropyLoss()\n",
        "optimizer     = torch.optim.Adam(model.parameters(), lr = learning_rate)\n",
        "#loss_train    = train(model, optimizer, loss_fn, num_epochs)\n",
        "#test(model)\n",
        "\n",
        "model.fc.weight\n",
        "\n",
        "list_loss = train(model,optimizer,loss_fn,20, train_loader)"
      ]
    },
    {
      "cell_type": "code",
      "execution_count": 15,
      "metadata": {
        "id": "nK_w1lDoTGZz"
      },
      "outputs": [
        {
          "data": {
            "text/plain": [
              "[<matplotlib.lines.Line2D at 0x7eff24806a50>]"
            ]
          },
          "execution_count": 15,
          "metadata": {},
          "output_type": "execute_result"
        },
        {
          "data": {
            "image/png": "[encoded data removed]",
            "text/plain": [
              "<Figure size 432x288 with 1 Axes>"
            ]
          },
          "metadata": {
            "needs_background": "light"
          },
          "output_type": "display_data"
        }
      ],
      "source": [
        "\"\"\"\n",
        "Dibujo de perdida\n",
        "\"\"\"\n",
        "\n",
        "e = (len(list_loss))\n",
        "epochs = [i + 1 for i in range(e)]\n",
        "plt.title(\"CNN 2 Layers\")\n",
        "plt.xlabel(\"Epocas\")\n",
        "plt.ylabel(\"Perdida\")\n",
        "plt.plot(epochs,list_loss)\n",
        "\n",
        "\n",
        "\n"
      ]
    },
    {
      "cell_type": "code",
      "execution_count": 16,
      "metadata": {},
      "outputs": [
        {
          "name": "stdout",
          "output_type": "stream",
          "text": [
            "Test Accuracy of the model on the 10000 test images: 82.72900763358778 %\n"
          ]
        }
      ],
      "source": [
        "\"\"\"\n",
        "Pruebas para precision\n",
        "\"\"\"\n",
        "with torch.no_grad():\n",
        "      correct = 0\n",
        "      total = 0\n",
        "      for images, labels in test_loader:\n",
        "          images = images.to(device)\n",
        "          labels = labels.to(device)\n",
        "          im = torch.unsqueeze(images, dim=1)\n",
        "          im = im.float()\n",
        "          outputs = model(im)\n",
        "          _, predicted = torch.max(outputs.data, 1)\n",
        "          total += labels.size(0)\n",
        "          correct += (predicted == labels).sum().item()\n",
        "      print('Test Accuracy of the model on the 10000 test images: {} %'.format(100 * correct / total))"
      ]
    },
    {
      "cell_type": "code",
      "execution_count": 17,
      "metadata": {},
      "outputs": [
        {
          "name": "stdout",
          "output_type": "stream",
          "text": [
            "Epoch [1/20], Step [100/232], Loss: 0.8812\n",
            "Epoch [1/20], Step [200/232], Loss: 0.7507\n",
            "Epoch [2/20], Step [100/232], Loss: 0.5693\n",
            "Epoch [2/20], Step [200/232], Loss: 0.4985\n",
            "Epoch [3/20], Step [100/232], Loss: 0.4364\n",
            "Epoch [3/20], Step [200/232], Loss: 0.4856\n",
            "Epoch [4/20], Step [100/232], Loss: 0.3835\n",
            "Epoch [4/20], Step [200/232], Loss: 0.4077\n",
            "Epoch [5/20], Step [100/232], Loss: 0.4526\n",
            "Epoch [5/20], Step [200/232], Loss: 0.2963\n",
            "Epoch [6/20], Step [100/232], Loss: 0.3669\n",
            "Epoch [6/20], Step [200/232], Loss: 0.2666\n",
            "Epoch [7/20], Step [100/232], Loss: 0.4467\n",
            "Epoch [7/20], Step [200/232], Loss: 0.2816\n",
            "Epoch [8/20], Step [100/232], Loss: 0.3409\n",
            "Epoch [8/20], Step [200/232], Loss: 0.3496\n",
            "Epoch [9/20], Step [100/232], Loss: 0.2155\n",
            "Epoch [9/20], Step [200/232], Loss: 0.3724\n",
            "Epoch [10/20], Step [100/232], Loss: 0.2943\n",
            "Epoch [10/20], Step [200/232], Loss: 0.4144\n",
            "Epoch [11/20], Step [100/232], Loss: 0.1941\n",
            "Epoch [11/20], Step [200/232], Loss: 0.3525\n",
            "Epoch [12/20], Step [100/232], Loss: 0.2229\n",
            "Epoch [12/20], Step [200/232], Loss: 0.2969\n",
            "Epoch [13/20], Step [100/232], Loss: 0.1878\n",
            "Epoch [13/20], Step [200/232], Loss: 0.0986\n",
            "Epoch [14/20], Step [100/232], Loss: 0.2589\n",
            "Epoch [14/20], Step [200/232], Loss: 0.2775\n",
            "Epoch [15/20], Step [100/232], Loss: 0.4169\n",
            "Epoch [15/20], Step [200/232], Loss: 0.1787\n",
            "Epoch [16/20], Step [100/232], Loss: 0.3159\n",
            "Epoch [16/20], Step [200/232], Loss: 0.2466\n",
            "Epoch [17/20], Step [100/232], Loss: 0.1962\n",
            "Epoch [17/20], Step [200/232], Loss: 0.2111\n",
            "Epoch [18/20], Step [100/232], Loss: 0.0994\n",
            "Epoch [18/20], Step [200/232], Loss: 0.2088\n",
            "Epoch [19/20], Step [100/232], Loss: 0.3506\n",
            "Epoch [19/20], Step [200/232], Loss: 0.1061\n",
            "Epoch [20/20], Step [100/232], Loss: 0.2944\n",
            "Epoch [20/20], Step [200/232], Loss: 0.0750\n",
            "Finished Training Trainset\n"
          ]
        },
        {
          "data": {
            "text/plain": [
              "[<matplotlib.lines.Line2D at 0x7eff1061bad0>]"
            ]
          },
          "execution_count": 17,
          "metadata": {},
          "output_type": "execute_result"
        },
        {
          "data": {
            "image/png": "[encoded data removed]",
            "text/plain": [
              "<Figure size 432x288 with 1 Axes>"
            ]
          },
          "metadata": {
            "needs_background": "light"
          },
          "output_type": "display_data"
        }
      ],
      "source": [
        "class CNN_3L(nn.Module ):\n",
        "  def __init__ (self , num_classes =4):\n",
        "    super (CNN_3L , self).__init__ ()\n",
        "    self. layer1 = nn.Sequential (\n",
        "      nn.Conv2d ( in_channels =1, out_channels =16, kernel_size =3, stride =1, padding =2) ,\n",
        "      nn.ReLU (),\n",
        "      nn.MaxPool2d ( kernel_size =2, stride =2))\n",
        "    self. layer2 = nn. Sequential (\n",
        "      nn.Conv2d (in_channels=16, out_channels=32, kernel_size =5, stride =1, padding =2) ,\n",
        "      nn.ReLU (),\n",
        "      nn.MaxPool2d ( kernel_size =2, stride =2))\n",
        "    self. layer3 = nn. Sequential (\n",
        "      nn.Conv2d (in_channels=32, out_channels=64, kernel_size =3, stride =1, padding =2) ,\n",
        "      nn.ReLU (),\n",
        "      nn.MaxPool2d ( kernel_size =2, stride =2))\n",
        "    self.fc = nn.Linear (7*7*64 , num_classes )\n",
        "\n",
        "  def forward (self , x):\n",
        "    out = self. layer1 (x)\n",
        "    out = self. layer2 (out)\n",
        "    out = self. layer3 (out)\n",
        "    out = out. reshape (out.size (0) , -1)\n",
        "    out = self.fc(out)\n",
        "    return out\n",
        "\n",
        "model         = CNN_3L().to(device)\n",
        "loss_fn       = nn.CrossEntropyLoss()\n",
        "optimizer     = torch.optim.Adam(model.parameters(), lr = learning_rate)\n",
        "#loss_train    = train(model, optimizer, loss_fn, num_epochs)\n",
        "#test(model)\n",
        "\n",
        "model.fc.weight\n",
        "\n",
        "list_loss = train(model,optimizer,loss_fn,20, train_loader)\n",
        "\n",
        "e = (len(list_loss))\n",
        "epochs = [i + 1 for i in range(e)]\n",
        "plt.title(\"CNN 3 Layers\")\n",
        "plt.xlabel(\"Epocas\")\n",
        "plt.ylabel(\"Perdida\")\n",
        "plt.plot(epochs,list_loss)\n",
        "\n"
      ]
    },
    {
      "cell_type": "code",
      "execution_count": 18,
      "metadata": {},
      "outputs": [
        {
          "name": "stdout",
          "output_type": "stream",
          "text": [
            "Test Accuracy of the model on the 10000 test images: 84.30343511450381 %\n"
          ]
        }
      ],
      "source": [
        "with torch.no_grad():\n",
        "      correct = 0\n",
        "      total = 0\n",
        "      for images, labels in test_loader:\n",
        "          images = images.to(device)\n",
        "          labels = labels.to(device)\n",
        "          im = torch.unsqueeze(images, dim=1)\n",
        "          im = im.float()\n",
        "          outputs = model(im)\n",
        "          _, predicted = torch.max(outputs.data, 1)\n",
        "          total += labels.size(0)\n",
        "          correct += (predicted == labels).sum().item()\n",
        "      print('Test Accuracy of the model on the 10000 test images: {} %'.format(100 * correct / total))"
      ]
    },
    {
      "cell_type": "code",
      "execution_count": 19,
      "metadata": {},
      "outputs": [
        {
          "name": "stdout",
          "output_type": "stream",
          "text": [
            "Epoch [1/20], Step [100/232], Loss: 0.6085\n",
            "Epoch [1/20], Step [200/232], Loss: 0.5610\n",
            "Epoch [2/20], Step [100/232], Loss: 0.4734\n",
            "Epoch [2/20], Step [200/232], Loss: 0.7003\n",
            "Epoch [3/20], Step [100/232], Loss: 0.4635\n",
            "Epoch [3/20], Step [200/232], Loss: 0.3008\n",
            "Epoch [4/20], Step [100/232], Loss: 0.2926\n",
            "Epoch [4/20], Step [200/232], Loss: 0.3961\n",
            "Epoch [5/20], Step [100/232], Loss: 0.4966\n",
            "Epoch [5/20], Step [200/232], Loss: 0.4478\n",
            "Epoch [6/20], Step [100/232], Loss: 0.4002\n",
            "Epoch [6/20], Step [200/232], Loss: 0.3698\n",
            "Epoch [7/20], Step [100/232], Loss: 0.2363\n",
            "Epoch [7/20], Step [200/232], Loss: 0.1936\n",
            "Epoch [8/20], Step [100/232], Loss: 0.1600\n",
            "Epoch [8/20], Step [200/232], Loss: 0.2852\n",
            "Epoch [9/20], Step [100/232], Loss: 0.1624\n",
            "Epoch [9/20], Step [200/232], Loss: 0.2004\n",
            "Epoch [10/20], Step [100/232], Loss: 0.1510\n",
            "Epoch [10/20], Step [200/232], Loss: 0.2794\n",
            "Epoch [11/20], Step [100/232], Loss: 0.4027\n",
            "Epoch [11/20], Step [200/232], Loss: 0.1283\n",
            "Epoch [12/20], Step [100/232], Loss: 0.1969\n",
            "Epoch [12/20], Step [200/232], Loss: 0.0793\n",
            "Epoch [13/20], Step [100/232], Loss: 0.0943\n",
            "Epoch [13/20], Step [200/232], Loss: 0.1872\n",
            "Epoch [14/20], Step [100/232], Loss: 0.1179\n",
            "Epoch [14/20], Step [200/232], Loss: 0.1133\n",
            "Epoch [15/20], Step [100/232], Loss: 0.0675\n",
            "Epoch [15/20], Step [200/232], Loss: 0.0905\n",
            "Epoch [16/20], Step [100/232], Loss: 0.1487\n",
            "Epoch [16/20], Step [200/232], Loss: 0.1412\n",
            "Epoch [17/20], Step [100/232], Loss: 0.0367\n",
            "Epoch [17/20], Step [200/232], Loss: 0.0716\n",
            "Epoch [18/20], Step [100/232], Loss: 0.1292\n",
            "Epoch [18/20], Step [200/232], Loss: 0.0368\n",
            "Epoch [19/20], Step [100/232], Loss: 0.0523\n",
            "Epoch [19/20], Step [200/232], Loss: 0.0327\n",
            "Epoch [20/20], Step [100/232], Loss: 0.0848\n",
            "Epoch [20/20], Step [200/232], Loss: 0.0533\n",
            "Finished Training Trainset\n"
          ]
        },
        {
          "data": {
            "text/plain": [
              "[<matplotlib.lines.Line2D at 0x7eff240f4250>]"
            ]
          },
          "execution_count": 19,
          "metadata": {},
          "output_type": "execute_result"
        },
        {
          "data": {
            "image/png": "[encoded data removed]",
            "text/plain": [
              "<Figure size 432x288 with 1 Axes>"
            ]
          },
          "metadata": {
            "needs_background": "light"
          },
          "output_type": "display_data"
        }
      ],
      "source": [
        "class CNN_3L_norm(nn.Module ):\n",
        "  def __init__ (self , num_classes =4):\n",
        "    super (CNN_3L_norm , self).__init__ ()\n",
        "    self. layer1 = nn.Sequential (\n",
        "      nn.Conv2d ( in_channels =1, out_channels =16, kernel_size =3, stride =1, padding =2) ,\n",
        "      nn.BatchNorm2d(16),\n",
        "      nn.ReLU (),\n",
        "      nn.MaxPool2d ( kernel_size =2, stride =2))\n",
        "    self. layer2 = nn. Sequential (\n",
        "      nn.Conv2d (in_channels=16, out_channels=32, kernel_size =5, stride =1, padding =2) ,\n",
        "      nn.BatchNorm2d(32),\n",
        "      nn.ReLU (),\n",
        "      nn.MaxPool2d ( kernel_size =2, stride =2))\n",
        "    self. layer3 = nn. Sequential (\n",
        "      nn.Conv2d (in_channels=32, out_channels=64, kernel_size =3, stride =1, padding =2) ,\n",
        "      nn.BatchNorm2d(64),\n",
        "      nn.ReLU (),\n",
        "      nn.MaxPool2d ( kernel_size =2, stride =2))\n",
        "    self.fc = nn.Linear (3136 , num_classes )\n",
        "\n",
        "  def forward (self , x):\n",
        "    out = self. layer1 (x)\n",
        "    out = self. layer2 (out)\n",
        "    out = self. layer3 (out)\n",
        "    out = out. reshape (out.size (0) , -1)\n",
        "    out = self.fc(out)\n",
        "    return out\n",
        "\n",
        "model         = CNN_3L_norm().to(device)\n",
        "loss_fn       = nn.CrossEntropyLoss()\n",
        "optimizer     = torch.optim.Adam(model.parameters(), lr = learning_rate)\n",
        "#loss_train    = train(model, optimizer, loss_fn, num_epochs)\n",
        "#test(model)\n",
        "\n",
        "model.fc.weight\n",
        "\n",
        "list_loss = train(model,optimizer,loss_fn,20, train_loader)\n",
        "\n",
        "e = (len(list_loss))\n",
        "epochs = [i + 1 for i in range(e)]\n",
        "plt.title(\"CNN 3 Layers - Batch Normalization\")\n",
        "plt.xlabel(\"Epocas\")\n",
        "plt.ylabel(\"Perdida\")\n",
        "plt.plot(epochs,list_loss)\n",
        "\n"
      ]
    },
    {
      "cell_type": "code",
      "execution_count": 20,
      "metadata": {},
      "outputs": [
        {
          "name": "stdout",
          "output_type": "stream",
          "text": [
            "Test Accuracy of the model on the 10000 test images: 86.25954198473282 %\n"
          ]
        }
      ],
      "source": [
        "with torch.no_grad():\n",
        "      correct = 0\n",
        "      total = 0\n",
        "      for images, labels in test_loader:\n",
        "          images = images.to(device)\n",
        "          labels = labels.to(device)\n",
        "          im = torch.unsqueeze(images, dim=1)\n",
        "          im = im.float()\n",
        "          outputs = model(im)\n",
        "          _, predicted = torch.max(outputs.data, 1)\n",
        "          total += labels.size(0)\n",
        "          correct += (predicted == labels).sum().item()\n",
        "      print('Test Accuracy of the model on the 10000 test images: {} %'.format(100 * correct / total))"
      ]
    },
    {
      "cell_type": "code",
      "execution_count": 21,
      "metadata": {},
      "outputs": [
        {
          "name": "stdout",
          "output_type": "stream",
          "text": [
            "Epoch [1/20], Step [100/232], Loss: 0.7039\n",
            "Epoch [1/20], Step [200/232], Loss: 0.5082\n",
            "Epoch [2/20], Step [100/232], Loss: 0.5962\n",
            "Epoch [2/20], Step [200/232], Loss: 0.4946\n",
            "Epoch [3/20], Step [100/232], Loss: 0.5481\n",
            "Epoch [3/20], Step [200/232], Loss: 0.4319\n",
            "Epoch [4/20], Step [100/232], Loss: 0.4816\n",
            "Epoch [4/20], Step [200/232], Loss: 0.4610\n",
            "Epoch [5/20], Step [100/232], Loss: 0.4955\n",
            "Epoch [5/20], Step [200/232], Loss: 0.4370\n",
            "Epoch [6/20], Step [100/232], Loss: 0.3900\n",
            "Epoch [6/20], Step [200/232], Loss: 0.5157\n",
            "Epoch [7/20], Step [100/232], Loss: 0.4068\n",
            "Epoch [7/20], Step [200/232], Loss: 0.5178\n",
            "Epoch [8/20], Step [100/232], Loss: 0.3640\n",
            "Epoch [8/20], Step [200/232], Loss: 0.3159\n",
            "Epoch [9/20], Step [100/232], Loss: 0.2556\n",
            "Epoch [9/20], Step [200/232], Loss: 0.3671\n",
            "Epoch [10/20], Step [100/232], Loss: 0.4067\n",
            "Epoch [10/20], Step [200/232], Loss: 0.2909\n",
            "Epoch [11/20], Step [100/232], Loss: 0.2979\n",
            "Epoch [11/20], Step [200/232], Loss: 0.2134\n",
            "Epoch [12/20], Step [100/232], Loss: 0.1656\n",
            "Epoch [12/20], Step [200/232], Loss: 0.3470\n",
            "Epoch [13/20], Step [100/232], Loss: 0.1539\n",
            "Epoch [13/20], Step [200/232], Loss: 0.2008\n",
            "Epoch [14/20], Step [100/232], Loss: 0.2432\n",
            "Epoch [14/20], Step [200/232], Loss: 0.2265\n",
            "Epoch [15/20], Step [100/232], Loss: 0.2570\n",
            "Epoch [15/20], Step [200/232], Loss: 0.4278\n",
            "Epoch [16/20], Step [100/232], Loss: 0.2555\n",
            "Epoch [16/20], Step [200/232], Loss: 0.4059\n",
            "Epoch [17/20], Step [100/232], Loss: 0.1978\n",
            "Epoch [17/20], Step [200/232], Loss: 0.3379\n",
            "Epoch [18/20], Step [100/232], Loss: 0.3816\n",
            "Epoch [18/20], Step [200/232], Loss: 0.2471\n",
            "Epoch [19/20], Step [100/232], Loss: 0.2446\n",
            "Epoch [19/20], Step [200/232], Loss: 0.3509\n",
            "Epoch [20/20], Step [100/232], Loss: 0.2890\n",
            "Epoch [20/20], Step [200/232], Loss: 0.2061\n",
            "Finished Training Trainset\n"
          ]
        },
        {
          "data": {
            "text/plain": [
              "[<matplotlib.lines.Line2D at 0x7eff103566d0>]"
            ]
          },
          "execution_count": 21,
          "metadata": {},
          "output_type": "execute_result"
        },
        {
          "data": {
            "image/png": "[encoded data removed]",
            "text/plain": [
              "<Figure size 432x288 with 1 Axes>"
            ]
          },
          "metadata": {
            "needs_background": "light"
          },
          "output_type": "display_data"
        }
      ],
      "source": [
        "class CNN_3L_norm_drop(nn.Module ):\n",
        "  def __init__ (self , num_classes =4):\n",
        "    super (CNN_3L_norm_drop , self).__init__ ()\n",
        "    self. layer1 = nn.Sequential (\n",
        "      nn.Conv2d ( in_channels =1, out_channels =16, kernel_size =3, stride =1, padding =2) ,\n",
        "      nn.BatchNorm2d(16),\n",
        "      nn.Dropout(0.5),\n",
        "      nn.ReLU (),\n",
        "      nn.MaxPool2d ( kernel_size =2, stride =2))\n",
        "    self. layer2 = nn. Sequential (\n",
        "      nn.Conv2d (in_channels=16, out_channels=32, kernel_size =5, stride =1, padding =2) ,\n",
        "      nn.BatchNorm2d(32),\n",
        "      nn.Dropout(0.5),\n",
        "      nn.ReLU (),\n",
        "      nn.MaxPool2d ( kernel_size =2, stride =2))\n",
        "    self. layer3 = nn. Sequential (\n",
        "      nn.Conv2d (in_channels=32, out_channels=64, kernel_size =3, stride =1, padding =2) ,\n",
        "      nn.BatchNorm2d(64),\n",
        "      nn.Dropout(0.5),\n",
        "      nn.ReLU (),\n",
        "      nn.MaxPool2d ( kernel_size =2, stride =2))\n",
        "    self.fc = nn.Linear (3136 , num_classes )\n",
        "\n",
        "  def forward (self , x):\n",
        "    out = self. layer1 (x)\n",
        "    out = self. layer2 (out)\n",
        "    out = self. layer3 (out)\n",
        "    out = out. reshape (out.size (0) , -1)\n",
        "    out = self.fc(out)\n",
        "    return out\n",
        "\n",
        "model         = CNN_3L_norm_drop().to(device)\n",
        "loss_fn       = nn.CrossEntropyLoss()\n",
        "optimizer     = torch.optim.Adam(model.parameters(), lr = learning_rate)\n",
        "#loss_train    = train(model, optimizer, loss_fn, num_epochs)\n",
        "#test(model)\n",
        "\n",
        "model.fc.weight\n",
        "\n",
        "list_loss = train(model,optimizer,loss_fn,20, train_loader)\n",
        "\n",
        "e = (len(list_loss))\n",
        "epochs = [i + 1 for i in range(e)]\n",
        "plt.title(\"CNN 3 Layers - Batch Normalization - Dropout\")\n",
        "plt.xlabel(\"Epocas\")\n",
        "plt.ylabel(\"Perdida\")\n",
        "plt.plot(epochs,list_loss)\n",
        "\n"
      ]
    },
    {
      "cell_type": "code",
      "execution_count": 22,
      "metadata": {},
      "outputs": [
        {
          "name": "stdout",
          "output_type": "stream",
          "text": [
            "Test Accuracy of the model on the 10000 test images: 88.5973282442748 %\n"
          ]
        }
      ],
      "source": [
        "with torch.no_grad():\n",
        "      correct = 0\n",
        "      total = 0\n",
        "      for images, labels in test_loader:\n",
        "          images = images.to(device)\n",
        "          labels = labels.to(device)\n",
        "          im = torch.unsqueeze(images, dim=1)\n",
        "          im = im.float()\n",
        "          outputs = model(im)\n",
        "          _, predicted = torch.max(outputs.data, 1)\n",
        "          total += labels.size(0)\n",
        "          correct += (predicted == labels).sum().item()\n",
        "      print('Test Accuracy of the model on the 10000 test images: {} %'.format(100 * correct / total))"
      ]
    },
    {
      "cell_type": "code",
      "execution_count": 23,
      "metadata": {},
      "outputs": [
        {
          "name": "stdout",
          "output_type": "stream",
          "text": [
            "Epoch [1/20], Step [100/232], Loss: 0.5043\n",
            "Epoch [1/20], Step [200/232], Loss: 0.6300\n",
            "Epoch [2/20], Step [100/232], Loss: 0.3202\n",
            "Epoch [2/20], Step [200/232], Loss: 0.4106\n",
            "Epoch [3/20], Step [100/232], Loss: 0.3734\n",
            "Epoch [3/20], Step [200/232], Loss: 0.3365\n",
            "Epoch [4/20], Step [100/232], Loss: 0.3321\n",
            "Epoch [4/20], Step [200/232], Loss: 0.3858\n",
            "Epoch [5/20], Step [100/232], Loss: 0.3635\n",
            "Epoch [5/20], Step [200/232], Loss: 0.5017\n",
            "Epoch [6/20], Step [100/232], Loss: 0.2521\n",
            "Epoch [6/20], Step [200/232], Loss: 0.3554\n",
            "Epoch [7/20], Step [100/232], Loss: 0.2497\n",
            "Epoch [7/20], Step [200/232], Loss: 0.1763\n",
            "Epoch [8/20], Step [100/232], Loss: 0.2270\n",
            "Epoch [8/20], Step [200/232], Loss: 0.1687\n",
            "Epoch [9/20], Step [100/232], Loss: 0.3177\n",
            "Epoch [9/20], Step [200/232], Loss: 0.2353\n",
            "Epoch [10/20], Step [100/232], Loss: 0.1951\n",
            "Epoch [10/20], Step [200/232], Loss: 0.1999\n",
            "Epoch [11/20], Step [100/232], Loss: 0.1505\n",
            "Epoch [11/20], Step [200/232], Loss: 0.0617\n",
            "Epoch [12/20], Step [100/232], Loss: 0.2426\n",
            "Epoch [12/20], Step [200/232], Loss: 0.1166\n",
            "Epoch [13/20], Step [100/232], Loss: 0.1568\n",
            "Epoch [13/20], Step [200/232], Loss: 0.1623\n",
            "Epoch [14/20], Step [100/232], Loss: 0.1970\n",
            "Epoch [14/20], Step [200/232], Loss: 0.2643\n",
            "Epoch [15/20], Step [100/232], Loss: 0.1737\n",
            "Epoch [15/20], Step [200/232], Loss: 0.1645\n",
            "Epoch [16/20], Step [100/232], Loss: 0.1834\n",
            "Epoch [16/20], Step [200/232], Loss: 0.1168\n",
            "Epoch [17/20], Step [100/232], Loss: 0.2165\n",
            "Epoch [17/20], Step [200/232], Loss: 0.3785\n",
            "Epoch [18/20], Step [100/232], Loss: 0.1584\n",
            "Epoch [18/20], Step [200/232], Loss: 0.2121\n",
            "Epoch [19/20], Step [100/232], Loss: 0.1452\n",
            "Epoch [19/20], Step [200/232], Loss: 0.0636\n",
            "Epoch [20/20], Step [100/232], Loss: 0.0714\n",
            "Epoch [20/20], Step [200/232], Loss: 0.1946\n",
            "Finished Training Trainset\n"
          ]
        },
        {
          "data": {
            "text/plain": [
              "[<matplotlib.lines.Line2D at 0x7eff10276050>]"
            ]
          },
          "execution_count": 23,
          "metadata": {},
          "output_type": "execute_result"
        },
        {
          "data": {
            "image/png": "[encoded data removed]",
            "text/plain": [
              "<Figure size 432x288 with 1 Axes>"
            ]
          },
          "metadata": {
            "needs_background": "light"
          },
          "output_type": "display_data"
        }
      ],
      "source": [
        "class CNN_3L_norm_drop2(nn.Module ):\n",
        "  def __init__ (self , num_classes =4):\n",
        "    super (CNN_3L_norm_drop2 , self).__init__ ()\n",
        "    self. layer1 = nn.Sequential (\n",
        "      nn.Conv2d ( in_channels =1, out_channels =16, kernel_size =3, stride =1, padding =2) ,\n",
        "      nn.BatchNorm2d(16),\n",
        "      nn.Dropout(0.5),\n",
        "      nn.ReLU (),\n",
        "      nn.MaxPool2d ( kernel_size =2, stride =2))\n",
        "    self. layer2 = nn. Sequential (\n",
        "      nn.Conv2d (in_channels=16, out_channels=32, kernel_size =5, stride =1, padding =2) ,\n",
        "      nn.ReLU (),\n",
        "      nn.MaxPool2d ( kernel_size =2, stride =2))\n",
        "    self. layer3 = nn. Sequential (\n",
        "      nn.Conv2d (in_channels=32, out_channels=64, kernel_size =3, stride =1, padding =2) ,\n",
        "      nn.ReLU (),\n",
        "      nn.MaxPool2d ( kernel_size =2, stride =2))\n",
        "    self.fc = nn.Linear (3136 , num_classes )\n",
        "\n",
        "  def forward (self , x):\n",
        "    out = self. layer1 (x)\n",
        "    out = self. layer2 (out)\n",
        "    out = self. layer3 (out)\n",
        "    out = out. reshape (out.size (0) , -1)\n",
        "    out = self.fc(out)\n",
        "    return out\n",
        "\n",
        "model         = CNN_3L_norm_drop2().to(device)\n",
        "loss_fn       = nn.CrossEntropyLoss()\n",
        "optimizer     = torch.optim.Adam(model.parameters(), lr = learning_rate)\n",
        "#loss_train    = train(model, optimizer, loss_fn, num_epochs)\n",
        "#test(model)\n",
        "\n",
        "model.fc.weight\n",
        "\n",
        "list_loss = train(model,optimizer,loss_fn,20, train_loader)\n",
        "\n",
        "e = (len(list_loss))\n",
        "epochs = [i + 1 for i in range(e)]\n",
        "plt.title(\"CNN 3 Layers - Batch Normalization - Dropout - One layer\")\n",
        "plt.xlabel(\"Epocas\")\n",
        "plt.ylabel(\"Perdida\")\n",
        "plt.plot(epochs,list_loss)\n",
        "\n",
        "\n"
      ]
    },
    {
      "cell_type": "code",
      "execution_count": 24,
      "metadata": {},
      "outputs": [
        {
          "name": "stdout",
          "output_type": "stream",
          "text": [
            "Test Accuracy of the model on the 10000 test images: 86.92748091603053 %\n"
          ]
        }
      ],
      "source": [
        "with torch.no_grad():\n",
        "      correct = 0\n",
        "      total = 0\n",
        "      for images, labels in test_loader:\n",
        "          images = images.to(device)\n",
        "          labels = labels.to(device)\n",
        "          im = torch.unsqueeze(images, dim=1)\n",
        "          im = im.float()\n",
        "          outputs = model(im)\n",
        "          _, predicted = torch.max(outputs.data, 1)\n",
        "          total += labels.size(0)\n",
        "          correct += (predicted == labels).sum().item()\n",
        "      print('Test Accuracy of the model on the 10000 test images: {} %'.format(100 * correct / total))"
      ]
    },
    {
      "cell_type": "code",
      "execution_count": 8,
      "metadata": {},
      "outputs": [
        {
          "ename": "NameError",
          "evalue": "name 'CNN_3L_norm_drop2' is not defined",
          "output_type": "error",
          "traceback": [
            "\u001b[0;31m---------------------------------------------------------------------------\u001b[0m",
            "\u001b[0;31mNameError\u001b[0m                                 Traceback (most recent call last)",
            "\u001b[0;32m/tmp/ipykernel_17177/2766128785.py\u001b[0m in \u001b[0;36m<module>\u001b[0;34m\u001b[0m\n\u001b[1;32m     58\u001b[0m   \u001b[0;32mreturn\u001b[0m \u001b[0mlist_loss\u001b[0m\u001b[0;34m\u001b[0m\u001b[0;34m\u001b[0m\u001b[0m\n\u001b[1;32m     59\u001b[0m \u001b[0;34m\u001b[0m\u001b[0m\n\u001b[0;32m---> 60\u001b[0;31m \u001b[0mmodel\u001b[0m         \u001b[0;34m=\u001b[0m \u001b[0mCNN_3L_norm_drop2\u001b[0m\u001b[0;34m(\u001b[0m\u001b[0;34m)\u001b[0m\u001b[0;34m.\u001b[0m\u001b[0mto\u001b[0m\u001b[0;34m(\u001b[0m\u001b[0mdevice\u001b[0m\u001b[0;34m)\u001b[0m\u001b[0;34m\u001b[0m\u001b[0;34m\u001b[0m\u001b[0m\n\u001b[0m\u001b[1;32m     61\u001b[0m \u001b[0mloss_fn\u001b[0m       \u001b[0;34m=\u001b[0m \u001b[0mnn\u001b[0m\u001b[0;34m.\u001b[0m\u001b[0mCrossEntropyLoss\u001b[0m\u001b[0;34m(\u001b[0m\u001b[0;34m)\u001b[0m\u001b[0;34m\u001b[0m\u001b[0;34m\u001b[0m\u001b[0m\n\u001b[1;32m     62\u001b[0m \u001b[0moptimizer\u001b[0m     \u001b[0;34m=\u001b[0m \u001b[0mtorch\u001b[0m\u001b[0;34m.\u001b[0m\u001b[0moptim\u001b[0m\u001b[0;34m.\u001b[0m\u001b[0mAdam\u001b[0m\u001b[0;34m(\u001b[0m\u001b[0mmodel\u001b[0m\u001b[0;34m.\u001b[0m\u001b[0mparameters\u001b[0m\u001b[0;34m(\u001b[0m\u001b[0;34m)\u001b[0m\u001b[0;34m,\u001b[0m \u001b[0mlr\u001b[0m \u001b[0;34m=\u001b[0m \u001b[0mlearning_rate\u001b[0m\u001b[0;34m)\u001b[0m\u001b[0;34m\u001b[0m\u001b[0;34m\u001b[0m\u001b[0m\n",
            "\u001b[0;31mNameError\u001b[0m: name 'CNN_3L_norm_drop2' is not defined"
          ]
        }
      ],
      "source": [
        "def train_stop(model, optimizer, loos_fn, num_epochs, train_loader, validation_loader, patience):\n",
        "  loss_vals = []\n",
        "  running_loss =0.0\n",
        "  criterion = nn.CrossEntropyLoss()\n",
        "  \n",
        "  # train the model\n",
        "  total_step = len(train_loader)\n",
        "\n",
        "  list_loss= []\n",
        "  list_time = []\n",
        "  j=0\n",
        "  loss_before = 1000000\n",
        "  sto = False\n",
        "  for epoch in range(num_epochs):\n",
        "    model.train() \n",
        "    for i, (images, labels) in enumerate(train_loader):\n",
        "      images = images.to(device)\n",
        "      labels = labels.to(device)\n",
        "      im = torch.unsqueeze(images, dim=1)\n",
        "      im = im.float()\n",
        "      # forward \n",
        "      output = model(im)\n",
        "      loss   = loos_fn(output, labels)\n",
        "      # change the params\n",
        "      optimizer.zero_grad()\n",
        "      loss.backward()\n",
        "      optimizer.step()\n",
        "\n",
        "      \n",
        "      list_time.append(j)\n",
        "      j+=1\n",
        "\n",
        "      if (j+1) % 100 == 0:\n",
        "              list_loss.append(loss.item())\n",
        "              print ('Epoch [{}/{}], Step [{}/{}], Loss: {:.4f}' \n",
        "                    .format(epoch+1, num_epochs, j+1, total_step, loss.item()))\n",
        "\n",
        "    valid_losses = []\n",
        "    model.eval()\n",
        "\n",
        "    for (images, labels) in (validation_loader):\n",
        "      images = images.to(device)\n",
        "      labels = labels.to(device)\n",
        "      im = torch.unsqueeze(images, dim=1)\n",
        "      im = im.float()\n",
        "      # forward \n",
        "      output = model(im)\n",
        "      loss   = criterion(output, labels)\n",
        "      valid_losses.append(loss.item())\n",
        "\n",
        "    valid_loss = np.average(valid_losses)\n",
        "\n",
        "    if (abs(loss_before - valid_loss) < 0.001):\n",
        "      stop = True\n",
        "      break\n",
        "    loss_before = valid_loss\n",
        "  print('Finished Training Trainset')\n",
        "  return list_loss\n",
        "\n",
        "model         = CNN_3L_norm_drop2().to(device)\n",
        "loss_fn       = nn.CrossEntropyLoss()\n",
        "optimizer     = torch.optim.Adam(model.parameters(), lr = learning_rate)\n",
        "#loss_train    = train(model, optimizer, loss_fn, num_epochs)\n",
        "#test(model)\n",
        "\n",
        "model.fc.weight\n",
        "\n",
        "list_loss = train_stop(model,optimizer,loss_fn,20, train_loader,validation_loader, 20)\n",
        "\n",
        "e = (len(list_loss))\n",
        "epochs = [i + 1 for i in range(e)]\n",
        "plt.title(\"CNN 3 Layers - EarlyStop\")\n",
        "plt.xlabel(\"Epocas\")\n",
        "plt.ylabel(\"Perdida\")\n",
        "plt.plot(epochs,list_loss)\n",
        "\n",
        "\n"
      ]
    },
    {
      "cell_type": "code",
      "execution_count": 26,
      "metadata": {},
      "outputs": [
        {
          "name": "stdout",
          "output_type": "stream",
          "text": [
            "Test Accuracy of the model on the 10000 test images: 86.87977099236642 %\n"
          ]
        }
      ],
      "source": [
        "with torch.no_grad():\n",
        "      correct = 0\n",
        "      total = 0\n",
        "      for images, labels in test_loader:\n",
        "          images = images.to(device)\n",
        "          labels = labels.to(device)\n",
        "          im = torch.unsqueeze(images, dim=1)\n",
        "          im = im.float()\n",
        "          outputs = model(im)\n",
        "          _, predicted = torch.max(outputs.data, 1)\n",
        "          total += labels.size(0)\n",
        "          correct += (predicted == labels).sum().item()\n",
        "      print('Test Accuracy of the model on the 10000 test images: {} %'.format(100 * correct / total))"
      ]
    },
    {
      "cell_type": "code",
      "execution_count": 29,
      "metadata": {},
      "outputs": [
        {
          "name": "stdout",
          "output_type": "stream",
          "text": [
            "Epoch [1/20], Step [100/232], Loss: 0.6792\n",
            "Epoch [1/20], Step [200/232], Loss: 0.6168\n",
            "Epoch [2/20], Step [100/232], Loss: 0.5547\n",
            "Epoch [2/20], Step [200/232], Loss: 0.5745\n",
            "Epoch [3/20], Step [100/232], Loss: 0.4661\n",
            "Epoch [3/20], Step [200/232], Loss: 0.6720\n",
            "Epoch [4/20], Step [100/232], Loss: 0.5456\n",
            "Epoch [4/20], Step [200/232], Loss: 0.4874\n",
            "Epoch [5/20], Step [100/232], Loss: 0.3703\n",
            "Epoch [5/20], Step [200/232], Loss: 0.5640\n",
            "Epoch [6/20], Step [100/232], Loss: 0.4506\n",
            "Epoch [6/20], Step [200/232], Loss: 0.3722\n",
            "Epoch [7/20], Step [100/232], Loss: 0.3804\n",
            "Epoch [7/20], Step [200/232], Loss: 0.3553\n",
            "Epoch [8/20], Step [100/232], Loss: 0.3294\n",
            "Epoch [8/20], Step [200/232], Loss: 0.4218\n",
            "Epoch [9/20], Step [100/232], Loss: 0.3791\n",
            "Epoch [9/20], Step [200/232], Loss: 0.3024\n",
            "Epoch [10/20], Step [100/232], Loss: 0.3399\n",
            "Epoch [10/20], Step [200/232], Loss: 0.3810\n",
            "Epoch [11/20], Step [100/232], Loss: 0.2108\n",
            "Epoch [11/20], Step [200/232], Loss: 0.2267\n",
            "Epoch [12/20], Step [100/232], Loss: 0.2260\n",
            "Epoch [12/20], Step [200/232], Loss: 0.1719\n",
            "Epoch [13/20], Step [100/232], Loss: 0.2476\n",
            "Epoch [13/20], Step [200/232], Loss: 0.3817\n",
            "Epoch [14/20], Step [100/232], Loss: 0.2115\n",
            "Epoch [14/20], Step [200/232], Loss: 0.1828\n",
            "Epoch [15/20], Step [100/232], Loss: 0.3167\n",
            "Epoch [15/20], Step [200/232], Loss: 0.2052\n",
            "Epoch [16/20], Step [100/232], Loss: 0.3270\n",
            "Epoch [16/20], Step [200/232], Loss: 0.2641\n",
            "Epoch [17/20], Step [100/232], Loss: 0.3203\n",
            "Epoch [17/20], Step [200/232], Loss: 0.2133\n",
            "Epoch [18/20], Step [100/232], Loss: 0.3819\n",
            "Epoch [18/20], Step [200/232], Loss: 0.2345\n",
            "Epoch [19/20], Step [100/232], Loss: 0.2095\n",
            "Epoch [19/20], Step [200/232], Loss: 0.1451\n",
            "Epoch [20/20], Step [100/232], Loss: 0.2189\n",
            "Epoch [20/20], Step [200/232], Loss: 0.3041\n",
            "Finished Training Trainset\n"
          ]
        },
        {
          "data": {
            "text/plain": [
              "[<matplotlib.lines.Line2D at 0x7eff101ed890>]"
            ]
          },
          "execution_count": 29,
          "metadata": {},
          "output_type": "execute_result"
        },
        {
          "data": {
            "image/png": "[encoded data removed]",
            "text/plain": [
              "<Figure size 432x288 with 1 Axes>"
            ]
          },
          "metadata": {
            "needs_background": "light"
          },
          "output_type": "display_data"
        }
      ],
      "source": [
        "class CNN_4L_norm_drop2(nn.Module ):\n",
        "  def __init__ (self , num_classes =4):\n",
        "    super (CNN_4L_norm_drop2 , self).__init__ ()\n",
        "    self. layer1 = nn.Sequential (\n",
        "      nn.Conv2d ( in_channels =1, out_channels =16, kernel_size =3, stride =1, padding =2) ,\n",
        "      nn.BatchNorm2d(16),\n",
        "      nn.Dropout(0.5),\n",
        "      nn.ReLU (),\n",
        "      nn.MaxPool2d ( kernel_size =2, stride =2))\n",
        "    self. layer2 = nn. Sequential (\n",
        "      nn.Conv2d (in_channels=16, out_channels=32, kernel_size =5, stride =1, padding =2) ,\n",
        "      nn.BatchNorm2d(32),\n",
        "      nn.Dropout(0.5),\n",
        "      nn.ReLU (),\n",
        "      nn.MaxPool2d ( kernel_size =2, stride =2))\n",
        "    self. layer3 = nn. Sequential (\n",
        "      nn.Conv2d (in_channels=32, out_channels=64, kernel_size =3, stride =1, padding =2) ,\n",
        "      nn.BatchNorm2d(64),\n",
        "      nn.Dropout(0.5),\n",
        "      nn.ReLU (),\n",
        "      nn.MaxPool2d ( kernel_size =2, stride =2))\n",
        "    self. layer4 = nn. Sequential (\n",
        "      nn.Conv2d (in_channels=64, out_channels=128, kernel_size =3, stride =1, padding =2) ,\n",
        "      nn.BatchNorm2d(128),\n",
        "      nn.Dropout(0.5),\n",
        "      nn.ReLU (),\n",
        "      nn.MaxPool2d ( kernel_size =2, stride =2))\n",
        "    self.fc = nn.Linear (2048 , num_classes )\n",
        "\n",
        "  def forward (self , x):\n",
        "    out = self. layer1 (x)\n",
        "    out = self. layer2 (out)\n",
        "    out = self. layer3 (out)\n",
        "    out = self. layer4 (out)\n",
        "    out = out. reshape (out.size (0) , -1)\n",
        "    out = self.fc(out)\n",
        "    return out\n",
        "\n",
        "model         = CNN_4L_norm_drop2().to(device)\n",
        "loss_fn       = nn.CrossEntropyLoss()\n",
        "optimizer     = torch.optim.Adam(model.parameters(), lr = learning_rate)\n",
        "#loss_train    = train(model, optimizer, loss_fn, num_epochs)\n",
        "#test(model)\n",
        "\n",
        "model.fc.weight\n",
        "\n",
        "list_loss = train(model,optimizer,loss_fn,20, train_loader)\n",
        "\n",
        "e = (len(list_loss))\n",
        "epochs = [i + 1 for i in range(e)]\n",
        "plt.title(\"CNN 4 Layers\")\n",
        "plt.xlabel(\"Epocas\")\n",
        "plt.ylabel(\"Perdida\")\n",
        "plt.plot(epochs,list_loss)\n",
        "\n"
      ]
    },
    {
      "cell_type": "code",
      "execution_count": 30,
      "metadata": {},
      "outputs": [
        {
          "name": "stdout",
          "output_type": "stream",
          "text": [
            "Test Accuracy of the model on the 10000 test images: 88.02480916030534 %\n"
          ]
        }
      ],
      "source": [
        "with torch.no_grad():\n",
        "      correct = 0\n",
        "      total = 0\n",
        "      for images, labels in test_loader:\n",
        "          images = images.to(device)\n",
        "          labels = labels.to(device)\n",
        "          im = torch.unsqueeze(images, dim=1)\n",
        "          im = im.float()\n",
        "          outputs = model(im)\n",
        "          _, predicted = torch.max(outputs.data, 1)\n",
        "          total += labels.size(0)\n",
        "          correct += (predicted == labels).sum().item()\n",
        "      print('Test Accuracy of the model on the 10000 test images: {} %'.format(100 * correct / total))"
      ]
    },
    {
      "cell_type": "code",
      "execution_count": 31,
      "metadata": {},
      "outputs": [
        {
          "name": "stdout",
          "output_type": "stream",
          "text": [
            "Epoch [1/20], Step [100/232], Loss: 1.4182\n",
            "Epoch [1/20], Step [200/232], Loss: 0.5848\n",
            "Epoch [2/20], Step [100/232], Loss: 0.5920\n",
            "Epoch [2/20], Step [200/232], Loss: 0.5613\n",
            "Epoch [3/20], Step [100/232], Loss: 0.5009\n",
            "Epoch [3/20], Step [200/232], Loss: 0.5114\n",
            "Epoch [4/20], Step [100/232], Loss: 0.3163\n",
            "Epoch [4/20], Step [200/232], Loss: 0.4285\n",
            "Epoch [5/20], Step [100/232], Loss: 0.3646\n",
            "Epoch [5/20], Step [200/232], Loss: 0.5868\n",
            "Epoch [6/20], Step [100/232], Loss: 0.4162\n",
            "Epoch [6/20], Step [200/232], Loss: 0.3954\n",
            "Epoch [7/20], Step [100/232], Loss: 0.4003\n",
            "Epoch [7/20], Step [200/232], Loss: 0.4854\n",
            "Epoch [8/20], Step [100/232], Loss: 0.3990\n",
            "Epoch [8/20], Step [200/232], Loss: 0.3331\n",
            "Epoch [9/20], Step [100/232], Loss: 0.3075\n",
            "Epoch [9/20], Step [200/232], Loss: 0.2295\n",
            "Epoch [10/20], Step [100/232], Loss: 0.3108\n",
            "Epoch [10/20], Step [200/232], Loss: 0.2987\n",
            "Epoch [11/20], Step [100/232], Loss: 0.3067\n",
            "Epoch [11/20], Step [200/232], Loss: 0.3362\n",
            "Epoch [12/20], Step [100/232], Loss: 0.3113\n",
            "Epoch [12/20], Step [200/232], Loss: 0.1844\n",
            "Epoch [13/20], Step [100/232], Loss: 0.3340\n",
            "Epoch [13/20], Step [200/232], Loss: 0.2976\n",
            "Epoch [14/20], Step [100/232], Loss: 0.3539\n",
            "Epoch [14/20], Step [200/232], Loss: 0.3223\n",
            "Epoch [15/20], Step [100/232], Loss: 0.3087\n",
            "Epoch [15/20], Step [200/232], Loss: 0.1907\n",
            "Epoch [16/20], Step [100/232], Loss: 0.5061\n",
            "Epoch [16/20], Step [200/232], Loss: 0.2438\n",
            "Epoch [17/20], Step [100/232], Loss: 0.2408\n",
            "Epoch [17/20], Step [200/232], Loss: 0.3752\n",
            "Epoch [18/20], Step [100/232], Loss: 0.3300\n",
            "Epoch [18/20], Step [200/232], Loss: 0.3716\n",
            "Epoch [19/20], Step [100/232], Loss: 0.2641\n",
            "Epoch [19/20], Step [200/232], Loss: 0.3652\n",
            "Epoch [20/20], Step [100/232], Loss: 0.3644\n",
            "Epoch [20/20], Step [200/232], Loss: 0.2425\n",
            "Finished Training Trainset\n"
          ]
        },
        {
          "data": {
            "text/plain": [
              "[<matplotlib.lines.Line2D at 0x7eff1008d750>]"
            ]
          },
          "execution_count": 31,
          "metadata": {},
          "output_type": "execute_result"
        },
        {
          "data": {
            "image/png": "[encoded data removed]",
            "text/plain": [
              "<Figure size 432x288 with 1 Axes>"
            ]
          },
          "metadata": {
            "needs_background": "light"
          },
          "output_type": "display_data"
        }
      ],
      "source": [
        "class CNN_5L_norm_drop2(nn.Module ):\n",
        "  def __init__ (self , num_classes =4):\n",
        "    super (CNN_5L_norm_drop2 , self).__init__ ()\n",
        "    self. layer1 = nn.Sequential (\n",
        "      nn.Conv2d ( in_channels =1, out_channels =16, kernel_size =3, stride =1, padding =2) ,\n",
        "      nn.BatchNorm2d(16),\n",
        "      nn.Dropout(0.5),\n",
        "      nn.ReLU (),\n",
        "      nn.MaxPool2d ( kernel_size =2, stride =2))\n",
        "    self. layer2 = nn. Sequential (\n",
        "      nn.Conv2d (in_channels=16, out_channels=32, kernel_size =5, stride =1, padding =2) ,\n",
        "      nn.BatchNorm2d(32),\n",
        "      nn.Dropout(0.5),\n",
        "      nn.ReLU (),\n",
        "      nn.MaxPool2d ( kernel_size =2, stride =2))\n",
        "    self. layer3 = nn. Sequential (\n",
        "      nn.Conv2d (in_channels=32, out_channels=64, kernel_size =3, stride =1, padding =2) ,\n",
        "      nn.BatchNorm2d(64),\n",
        "      nn.Dropout(0.5),\n",
        "      nn.ReLU (),\n",
        "      nn.MaxPool2d ( kernel_size =2, stride =2))\n",
        "    self. layer4 = nn. Sequential (\n",
        "      nn.Conv2d (in_channels=64, out_channels=128, kernel_size =3, stride =1, padding =2) ,\n",
        "      nn.BatchNorm2d(128),\n",
        "      nn.Dropout(0.5),\n",
        "      nn.ReLU (),\n",
        "      nn.MaxPool2d ( kernel_size =2, stride =2))\n",
        "    self. layer5 = nn. Sequential (\n",
        "      nn.Conv2d (in_channels=128, out_channels=256, kernel_size =3, stride =1, padding =2) ,\n",
        "      nn.BatchNorm2d(256),\n",
        "      nn.Dropout(0.5),\n",
        "      nn.ReLU (),\n",
        "      nn.MaxPool2d ( kernel_size =2, stride =2))\n",
        "    self.fc = nn.Linear (2304 , num_classes )\n",
        "\n",
        "  def forward (self , x):\n",
        "    out = self. layer1 (x)\n",
        "    out = self. layer2 (out)\n",
        "    out = self. layer3 (out)\n",
        "    out = self. layer4 (out)\n",
        "    out = self. layer5 (out)\n",
        "    out = out. reshape (out.size (0) , -1)\n",
        "    out = self.fc(out)\n",
        "    return out\n",
        "\n",
        "model         = CNN_5L_norm_drop2().to(device)\n",
        "loss_fn       = nn.CrossEntropyLoss()\n",
        "optimizer     = torch.optim.Adam(model.parameters(), lr = learning_rate)\n",
        "#loss_train    = train(model, optimizer, loss_fn, num_epochs)\n",
        "#test(model)\n",
        "\n",
        "model.fc.weight\n",
        "\n",
        "list_loss = train(model,optimizer,loss_fn,20, train_loader)\n",
        "\n",
        "e = (len(list_loss))\n",
        "epochs = [i + 1 for i in range(e)]\n",
        "plt.title(\"CNN 5 Layers\")\n",
        "plt.xlabel(\"Epocas\")\n",
        "plt.ylabel(\"Perdida\")\n",
        "plt.plot(epochs,list_loss)\n",
        "\n"
      ]
    },
    {
      "cell_type": "code",
      "execution_count": 32,
      "metadata": {},
      "outputs": [
        {
          "name": "stdout",
          "output_type": "stream",
          "text": [
            "Test Accuracy of the model on the 10000 test images: 87.83396946564885 %\n"
          ]
        }
      ],
      "source": [
        "with torch.no_grad():\n",
        "      correct = 0\n",
        "      total = 0\n",
        "      for images, labels in test_loader:\n",
        "          images = images.to(device)\n",
        "          labels = labels.to(device)\n",
        "          im = torch.unsqueeze(images, dim=1)\n",
        "          im = im.float()\n",
        "          outputs = model(im)\n",
        "          _, predicted = torch.max(outputs.data, 1)\n",
        "          total += labels.size(0)\n",
        "          correct += (predicted == labels).sum().item()\n",
        "      print('Test Accuracy of the model on the 10000 test images: {} %'.format(100 * correct / total))"
      ]
    },
    {
      "cell_type": "code",
      "execution_count": 7,
      "metadata": {},
      "outputs": [],
      "source": [
        "#Obtenido de https://discuss.pytorch.org/t/simple-efficient-way-to-create-dataset/65178\n",
        "\n",
        "class AlexNetDataSet(Dataset):\n",
        "    def __init__(self, array_np, transform=None):\n",
        "        super(AlexNetDataSet, self).__init__()\n",
        "        self.data = array_np   \n",
        "\n",
        "    def __getitem__(self, idx):\n",
        "        img = cv2.imread(self.data[idx,0],0)\n",
        "        img = cv2.resize(img, (227, 227))\n",
        "        x = torch.tensor(img)\n",
        "        y = torch.tensor(self.data[idx,1])\n",
        "        return x, y\n",
        "\n",
        "    def __len__(self):\n",
        "        return (self.data.shape[0])\n",
        "\n",
        "x = cv2.imread(data_np[1][0], 0)\n",
        "y = data_np[1][1]\n",
        "X_train, X_rest, y_train, y_rest = train_test_split(data_np[:,0], data_np[:,1], test_size=0.3, shuffle=True)\n",
        "X_val, X_test, y_val, y_test = train_test_split(X_rest, y_rest, test_size=0.33, shuffle=True)\n",
        "\n",
        "train = np.c_[X_train, y_train]\n",
        "validation = np.c_[X_val, y_val]\n",
        "test = np.c_[X_test, y_test]\n",
        "\n",
        "train_loader_alex = AlexNetDataSet(train)\n",
        "test_loader_alex = AlexNetDataSet(test)\n",
        "validation_loader_alex =  AlexNetDataSet(validation)\n",
        "\n",
        "train_loader_alex = torch.utils.data.DataLoader(dataset=train_loader_alex, batch_size=batch_size, shuffle=True)\n",
        "test_loader_alex = torch.utils.data.DataLoader(dataset=test_loader_alex, batch_size=batch_size, shuffle=False)\n",
        "validation_loader_alex = torch.utils.data.DataLoader(dataset=validation_loader_alex, batch_size=batch_size, shuffle=False)\n"
      ]
    },
    {
      "cell_type": "code",
      "execution_count": 36,
      "metadata": {},
      "outputs": [
        {
          "name": "stdout",
          "output_type": "stream",
          "text": [
            "Epoch [1/20], Step [100/232], Loss: 0.8250\n",
            "Epoch [1/20], Step [200/232], Loss: 0.7679\n",
            "Epoch [2/20], Step [100/232], Loss: 0.5923\n",
            "Epoch [2/20], Step [200/232], Loss: 0.7310\n",
            "Epoch [3/20], Step [100/232], Loss: 0.6083\n",
            "Epoch [3/20], Step [200/232], Loss: 0.4838\n",
            "Epoch [4/20], Step [100/232], Loss: 0.5676\n",
            "Epoch [4/20], Step [200/232], Loss: 0.4631\n",
            "Epoch [5/20], Step [100/232], Loss: 0.4559\n",
            "Epoch [5/20], Step [200/232], Loss: 0.4097\n",
            "Epoch [6/20], Step [100/232], Loss: 0.4082\n",
            "Epoch [6/20], Step [200/232], Loss: 0.3263\n",
            "Epoch [7/20], Step [100/232], Loss: 0.3638\n",
            "Epoch [7/20], Step [200/232], Loss: 0.2683\n",
            "Epoch [8/20], Step [100/232], Loss: 0.5872\n",
            "Epoch [8/20], Step [200/232], Loss: 0.5256\n",
            "Epoch [9/20], Step [100/232], Loss: 0.7082\n",
            "Epoch [9/20], Step [200/232], Loss: 0.6177\n",
            "Epoch [10/20], Step [100/232], Loss: 0.3303\n",
            "Epoch [10/20], Step [200/232], Loss: 0.3950\n",
            "Epoch [11/20], Step [100/232], Loss: 0.2791\n",
            "Epoch [11/20], Step [200/232], Loss: 0.3708\n",
            "Epoch [12/20], Step [100/232], Loss: 0.2010\n",
            "Epoch [12/20], Step [200/232], Loss: 0.3883\n",
            "Epoch [13/20], Step [100/232], Loss: 0.3621\n",
            "Epoch [13/20], Step [200/232], Loss: 0.3973\n",
            "Epoch [14/20], Step [100/232], Loss: 0.2814\n",
            "Epoch [14/20], Step [200/232], Loss: 0.1901\n",
            "Epoch [15/20], Step [100/232], Loss: 0.2146\n",
            "Epoch [15/20], Step [200/232], Loss: 0.2105\n",
            "Epoch [16/20], Step [100/232], Loss: 0.3279\n",
            "Epoch [16/20], Step [200/232], Loss: 0.1373\n",
            "Epoch [17/20], Step [100/232], Loss: 0.0931\n",
            "Epoch [17/20], Step [200/232], Loss: 0.5614\n",
            "Epoch [18/20], Step [100/232], Loss: 0.2255\n",
            "Epoch [18/20], Step [200/232], Loss: 0.4371\n",
            "Epoch [19/20], Step [100/232], Loss: 0.1522\n",
            "Epoch [19/20], Step [200/232], Loss: 0.1795\n",
            "Epoch [20/20], Step [100/232], Loss: 0.1965\n",
            "Epoch [20/20], Step [200/232], Loss: 0.3254\n",
            "Finished Training Trainset\n"
          ]
        },
        {
          "data": {
            "text/plain": [
              "[<matplotlib.lines.Line2D at 0x7efeff6d1690>]"
            ]
          },
          "execution_count": 36,
          "metadata": {},
          "output_type": "execute_result"
        },
        {
          "data": {
            "image/png": "[encoded data removed]",
            "text/plain": [
              "<Figure size 432x288 with 1 Axes>"
            ]
          },
          "metadata": {
            "needs_background": "light"
          },
          "output_type": "display_data"
        }
      ],
      "source": [
        "#https://blog.paperspace.com/alexnet-pytorch/\n",
        "class AlexNet(nn.Module):\n",
        "    def __init__(self, num_classes=4):\n",
        "        super(AlexNet, self).__init__()\n",
        "        self.layer1 = nn.Sequential(\n",
        "            nn.Conv2d(1, 96, kernel_size=11, stride=4, padding=0),\n",
        "            nn.BatchNorm2d(96),\n",
        "            nn.ReLU(),\n",
        "            nn.MaxPool2d(kernel_size = 3, stride = 2))\n",
        "        self.layer2 = nn.Sequential(\n",
        "            nn.Conv2d(96, 256, kernel_size=5, stride=1, padding=2),\n",
        "            nn.BatchNorm2d(256),\n",
        "            nn.ReLU(),\n",
        "            nn.MaxPool2d(kernel_size = 3, stride = 2))\n",
        "        self.layer3 = nn.Sequential(\n",
        "            nn.Conv2d(256, 384, kernel_size=3, stride=1, padding=1),\n",
        "            nn.BatchNorm2d(384),\n",
        "            nn.ReLU())\n",
        "        self.layer4 = nn.Sequential(\n",
        "            nn.Conv2d(384, 384, kernel_size=3, stride=1, padding=1),\n",
        "            nn.BatchNorm2d(384),\n",
        "            nn.ReLU())\n",
        "        self.layer5 = nn.Sequential(\n",
        "            nn.Conv2d(384, 256, kernel_size=3, stride=1, padding=1),\n",
        "            nn.BatchNorm2d(256),\n",
        "            nn.ReLU(),\n",
        "            nn.MaxPool2d(kernel_size = 3, stride = 2))\n",
        "        self.fc = nn.Sequential(\n",
        "            nn.Dropout(0.5),\n",
        "            nn.Linear(9216, 4096),\n",
        "            nn.ReLU())\n",
        "        self.fc1 = nn.Sequential(\n",
        "            nn.Dropout(0.5),\n",
        "            nn.Linear(4096, 4096),\n",
        "            nn.ReLU())\n",
        "        self.fc2= nn.Sequential(\n",
        "            nn.Linear(4096, num_classes))\n",
        "        \n",
        "    def forward(self, x):\n",
        "        out = self.layer1(x)\n",
        "        out = self.layer2(out)\n",
        "        out = self.layer3(out)\n",
        "        out = self.layer4(out)\n",
        "        out = self.layer5(out)\n",
        "        out = out.reshape(out.size(0), -1)\n",
        "        out = self.fc(out)\n",
        "        out = self.fc1(out)\n",
        "        out = self.fc2(out)\n",
        "        return out\n",
        "\n",
        "model         = AlexNet().to(device)\n",
        "loss_fn       = nn.CrossEntropyLoss()\n",
        "optimizer     = torch.optim.Adam(model.parameters(), lr = learning_rate)\n",
        "#loss_train    = train(model, optimizer, loss_fn, num_epochs)\n",
        "#test(model)\n",
        "\n",
        "\n",
        "list_loss = train(model,optimizer,loss_fn,20, train_loader_alex)\n",
        "\n",
        "\n",
        "e = (len(list_loss))\n",
        "epochs = [i + 1 for i in range(e)]\n",
        "plt.title(\"Alexnet\")\n",
        "plt.xlabel(\"Epocas\")\n",
        "plt.ylabel(\"Perdida\")\n",
        "plt.plot(epochs,list_loss)\n",
        "\n"
      ]
    },
    {
      "cell_type": "code",
      "execution_count": 37,
      "metadata": {},
      "outputs": [
        {
          "name": "stdout",
          "output_type": "stream",
          "text": [
            "Test Accuracy of the model on the 10000 test images: 88.88358778625954 %\n"
          ]
        }
      ],
      "source": [
        "with torch.no_grad():\n",
        "      correct = 0\n",
        "      total = 0\n",
        "      for images, labels in test_loader_alex:\n",
        "          images = images.to(device)\n",
        "          labels = labels.to(device)\n",
        "          im = torch.unsqueeze(images, dim=1)\n",
        "          im = im.float()\n",
        "          outputs = model(im)\n",
        "          _, predicted = torch.max(outputs.data, 1)\n",
        "          total += labels.size(0)\n",
        "          correct += (predicted == labels).sum().item()\n",
        "      print('Test Accuracy of the model on the 10000 test images: {} %'.format(100 * correct / total))"
      ]
    },
    {
      "cell_type": "code",
      "execution_count": 10,
      "metadata": {},
      "outputs": [],
      "source": [
        "#https://blog.paperspace.com/alexnet-pytorch/\n",
        "class AlexNet_LeakyReLU(nn.Module):\n",
        "    def __init__(self, num_classes=4):\n",
        "        super(AlexNet_LeakyReLU, self).__init__()\n",
        "        self.layer1 = nn.Sequential(\n",
        "            nn.Conv2d(1, 96, kernel_size=11, stride=4, padding=0),\n",
        "            nn.BatchNorm2d(96),\n",
        "            nn.LeakyReLU(),\n",
        "            nn.MaxPool2d(kernel_size = 3, stride = 2))\n",
        "        self.layer2 = nn.Sequential(\n",
        "            nn.Conv2d(96, 256, kernel_size=5, stride=1, padding=2),\n",
        "            nn.BatchNorm2d(256),\n",
        "            nn.LeakyReLU(),\n",
        "            nn.MaxPool2d(kernel_size = 3, stride = 2))\n",
        "        self.layer3 = nn.Sequential(\n",
        "            nn.Conv2d(256, 384, kernel_size=3, stride=1, padding=1),\n",
        "            nn.BatchNorm2d(384),\n",
        "            nn.LeakyReLU())\n",
        "        self.layer4 = nn.Sequential(\n",
        "            nn.Conv2d(384, 384, kernel_size=3, stride=1, padding=1),\n",
        "            nn.BatchNorm2d(384),\n",
        "            nn.LeakyReLU())\n",
        "        self.layer5 = nn.Sequential(\n",
        "            nn.Conv2d(384, 256, kernel_size=3, stride=1, padding=1),\n",
        "            nn.BatchNorm2d(256),\n",
        "            nn.LeakyReLU(),\n",
        "            nn.MaxPool2d(kernel_size = 3, stride = 2))\n",
        "        self.fc = nn.Sequential(\n",
        "            nn.Dropout(0.5),\n",
        "            nn.Linear(9216, 4096),\n",
        "            nn.LeakyReLU())\n",
        "        self.fc1 = nn.Sequential(\n",
        "            nn.Dropout(0.5),\n",
        "            nn.Linear(4096, 4096),\n",
        "            nn.LeakyReLU())\n",
        "        self.fc2= nn.Sequential(\n",
        "            nn.Linear(4096, num_classes))\n",
        "        \n",
        "    def forward(self, x):\n",
        "        out = self.layer1(x)\n",
        "        out = self.layer2(out)\n",
        "        out = self.layer3(out)\n",
        "        out = self.layer4(out)\n",
        "        out = self.layer5(out)\n",
        "        out = out.reshape(out.size(0), -1)\n",
        "        out = self.fc(out)\n",
        "        out = self.fc1(out)\n",
        "        out = self.fc2(out)\n",
        "        return out\n",
        "\n",
        "\n",
        "\n"
      ]
    },
    {
      "cell_type": "code",
      "execution_count": null,
      "metadata": {},
      "outputs": [],
      "source": [
        "model         = AlexNet_LeakyReLU().to(device)\n",
        "loss_fn       = nn.CrossEntropyLoss()\n",
        "optimizer     = torch.optim.Adam(model.parameters(), lr = learning_rate)\n",
        "#loss_train    = train(model, optimizer, loss_fn, num_epochs)\n",
        "#test(model)\n",
        "\n",
        "list_loss = train(model,optimizer,loss_fn,17, train_loader_alex)\n",
        "\n",
        "e = (len(list_loss))\n",
        "epochs = [i + 1 for i in range(e)]\n",
        "plt.title(\"Alexnet Leaky Relu\")\n",
        "plt.xlabel(\"Epocas\")\n",
        "plt.ylabel(\"Perdida\")\n",
        "plt.plot(epochs,list_loss)"
      ]
    },
    {
      "cell_type": "code",
      "execution_count": 39,
      "metadata": {},
      "outputs": [
        {
          "name": "stdout",
          "output_type": "stream",
          "text": [
            "Test Accuracy of the model on the 10000 test images: 89.2175572519084 %\n"
          ]
        }
      ],
      "source": [
        "\n",
        "with torch.no_grad():\n",
        "      correct = 0\n",
        "      total = 0\n",
        "      for images, labels in test_loader_alex:\n",
        "          images = images.to(device)\n",
        "          labels = labels.to(device)\n",
        "          im = torch.unsqueeze(images, dim=1)\n",
        "          im = im.float()\n",
        "          outputs = model(im)\n",
        "          _, predicted = torch.max(outputs.data, 1)\n",
        "          total += labels.size(0)\n",
        "          correct += (predicted == labels).sum().item()\n",
        "      print('Test Accuracy of the model on the 10000 test images: {} %'.format(100 * correct / total))"
      ]
    },
    {
      "cell_type": "code",
      "execution_count": 12,
      "metadata": {},
      "outputs": [
        {
          "name": "stdout",
          "output_type": "stream",
          "text": [
            "Epoch [1/17], Step [100/232], Loss: 0.6638\n",
            "Epoch [1/17], Step [200/232], Loss: 0.6543\n",
            "Epoch [2/17], Step [100/232], Loss: 0.3950\n",
            "Epoch [2/17], Step [200/232], Loss: 0.6384\n",
            "Epoch [3/17], Step [100/232], Loss: 0.3768\n",
            "Epoch [3/17], Step [200/232], Loss: 0.3714\n",
            "Epoch [4/17], Step [100/232], Loss: 0.3333\n",
            "Epoch [4/17], Step [200/232], Loss: 0.4200\n",
            "Epoch [5/17], Step [100/232], Loss: 0.3851\n",
            "Epoch [5/17], Step [200/232], Loss: 0.1763\n",
            "Epoch [6/17], Step [100/232], Loss: 0.3255\n",
            "Epoch [6/17], Step [200/232], Loss: 0.3924\n",
            "Epoch [7/17], Step [100/232], Loss: 0.2723\n",
            "Epoch [7/17], Step [200/232], Loss: 0.2417\n",
            "Epoch [8/17], Step [100/232], Loss: 0.2129\n",
            "Epoch [8/17], Step [200/232], Loss: 0.2901\n",
            "Epoch [9/17], Step [100/232], Loss: 0.3098\n",
            "Epoch [9/17], Step [200/232], Loss: 0.2368\n",
            "Epoch [10/17], Step [100/232], Loss: 0.3567\n",
            "Epoch [10/17], Step [200/232], Loss: 0.1854\n",
            "Epoch [11/17], Step [100/232], Loss: 0.1496\n",
            "Epoch [11/17], Step [200/232], Loss: 0.2269\n",
            "Epoch [12/17], Step [100/232], Loss: 0.2260\n",
            "Epoch [12/17], Step [200/232], Loss: 0.3005\n",
            "Epoch [13/17], Step [100/232], Loss: 0.2338\n",
            "Epoch [13/17], Step [200/232], Loss: 0.4603\n",
            "Epoch [14/17], Step [100/232], Loss: 0.5204\n",
            "Epoch [14/17], Step [200/232], Loss: 0.0772\n",
            "Epoch [15/17], Step [100/232], Loss: 0.1442\n",
            "Epoch [15/17], Step [200/232], Loss: 0.0772\n",
            "Epoch [16/17], Step [100/232], Loss: 0.1690\n",
            "Epoch [16/17], Step [200/232], Loss: 0.1635\n",
            "Epoch [17/17], Step [100/232], Loss: 0.4013\n",
            "Epoch [17/17], Step [200/232], Loss: 0.1545\n",
            "Finished Training Trainset\n"
          ]
        },
        {
          "data": {
            "text/plain": [
              "[<matplotlib.lines.Line2D at 0x7f06c4aca090>]"
            ]
          },
          "execution_count": 12,
          "metadata": {},
          "output_type": "execute_result"
        },
        {
          "data": {
            "image/png": "[encoded data removed]",
            "text/plain": [
              "<Figure size 432x288 with 1 Axes>"
            ]
          },
          "metadata": {
            "needs_background": "light"
          },
          "output_type": "display_data"
        }
      ],
      "source": [
        "model         = AlexNet_LeakyReLU().to(device)\n",
        "loss_fn       = nn.CrossEntropyLoss()\n",
        "optimizer     = torch.optim.NAdam(model.parameters(), lr = learning_rate)\n",
        "#loss_train    = train(model, optimizer, loss_fn, num_epochs)\n",
        "#test(model)\n",
        "\n",
        "list_loss = train(model,optimizer,loss_fn,17, train_loader_alex)\n",
        "\n",
        "e = (len(list_loss))\n",
        "epochs = [i + 1 for i in range(e)]\n",
        "plt.title(\"Alexnet Leaky Relu\")\n",
        "plt.xlabel(\"Epocas\")\n",
        "plt.ylabel(\"Perdida\")\n",
        "plt.plot(epochs,list_loss)\n"
      ]
    },
    {
      "cell_type": "code",
      "execution_count": 13,
      "metadata": {},
      "outputs": [
        {
          "name": "stdout",
          "output_type": "stream",
          "text": [
            "Test Accuracy of the model on the 10000 test images: 90.31488549618321 %\n"
          ]
        }
      ],
      "source": [
        "\n",
        "with torch.no_grad():\n",
        "      correct = 0\n",
        "      total = 0\n",
        "      for images, labels in test_loader_alex:\n",
        "          images = images.to(device)\n",
        "          labels = labels.to(device)\n",
        "          im = torch.unsqueeze(images, dim=1)\n",
        "          im = im.float()\n",
        "          outputs = model(im)\n",
        "          _, predicted = torch.max(outputs.data, 1)\n",
        "          total += labels.size(0)\n",
        "          correct += (predicted == labels).sum().item()\n",
        "      print('Test Accuracy of the model on the 10000 test images: {} %'.format(100 * correct / total))"
      ]
    },
    {
      "cell_type": "code",
      "execution_count": 15,
      "metadata": {},
      "outputs": [
        {
          "name": "stdout",
          "output_type": "stream",
          "text": [
            "Epoch [1/17], Step [100/232], Loss: 0.7732\n",
            "Epoch [1/17], Step [200/232], Loss: 0.5726\n",
            "Epoch [2/17], Step [100/232], Loss: 0.4120\n",
            "Epoch [2/17], Step [200/232], Loss: 0.4308\n",
            "Epoch [3/17], Step [100/232], Loss: 0.2727\n",
            "Epoch [3/17], Step [200/232], Loss: 0.3201\n",
            "Epoch [4/17], Step [100/232], Loss: 0.3996\n",
            "Epoch [4/17], Step [200/232], Loss: 0.3755\n",
            "Epoch [5/17], Step [100/232], Loss: 0.2305\n",
            "Epoch [5/17], Step [200/232], Loss: 0.3434\n",
            "Epoch [6/17], Step [100/232], Loss: 0.2990\n",
            "Epoch [6/17], Step [200/232], Loss: 0.2611\n",
            "Epoch [7/17], Step [100/232], Loss: 0.2081\n",
            "Epoch [7/17], Step [200/232], Loss: 0.3349\n",
            "Epoch [8/17], Step [100/232], Loss: 0.2377\n",
            "Epoch [8/17], Step [200/232], Loss: 0.1918\n",
            "Epoch [9/17], Step [100/232], Loss: 0.1595\n",
            "Epoch [9/17], Step [200/232], Loss: 0.2053\n",
            "Epoch [10/17], Step [100/232], Loss: 0.2464\n",
            "Epoch [10/17], Step [200/232], Loss: 0.1223\n",
            "Epoch [11/17], Step [100/232], Loss: 0.1835\n",
            "Epoch [11/17], Step [200/232], Loss: 0.1565\n",
            "Epoch [12/17], Step [100/232], Loss: 0.2220\n",
            "Epoch [12/17], Step [200/232], Loss: 0.1130\n",
            "Epoch [13/17], Step [100/232], Loss: 0.1510\n",
            "Epoch [13/17], Step [200/232], Loss: 0.1026\n",
            "Epoch [14/17], Step [100/232], Loss: 0.1841\n",
            "Epoch [14/17], Step [200/232], Loss: 0.0527\n",
            "Epoch [15/17], Step [100/232], Loss: 0.1764\n",
            "Epoch [15/17], Step [200/232], Loss: 0.1971\n",
            "Epoch [16/17], Step [100/232], Loss: 0.0765\n",
            "Epoch [16/17], Step [200/232], Loss: 0.0905\n",
            "Epoch [17/17], Step [100/232], Loss: 0.0764\n",
            "Epoch [17/17], Step [200/232], Loss: 0.1439\n",
            "Finished Training Trainset\n"
          ]
        },
        {
          "data": {
            "text/plain": [
              "[<matplotlib.lines.Line2D at 0x7f06c414d390>]"
            ]
          },
          "execution_count": 15,
          "metadata": {},
          "output_type": "execute_result"
        },
        {
          "data": {
            "image/png": "[encoded data removed]",
            "text/plain": [
              "<Figure size 432x288 with 1 Axes>"
            ]
          },
          "metadata": {
            "needs_background": "light"
          },
          "output_type": "display_data"
        }
      ],
      "source": [
        "model         = AlexNet_LeakyReLU().to(device)\n",
        "loss_fn       = nn.CrossEntropyLoss()\n",
        "optimizer     = torch.optim.Adagrad(model.parameters(), lr = learning_rate)\n",
        "#loss_train    = train(model, optimizer, loss_fn, num_epochs)\n",
        "#test(model)\n",
        "\n",
        "list_loss = train(model,optimizer,loss_fn,17, train_loader_alex)\n",
        "\n",
        "e = (len(list_loss))\n",
        "epochs = [i + 1 for i in range(e)]\n",
        "plt.title(\"Alexnet Leaky Relu\")\n",
        "plt.xlabel(\"Epocas\")\n",
        "plt.ylabel(\"Perdida\")\n",
        "plt.plot(epochs,list_loss)\n"
      ]
    },
    {
      "cell_type": "code",
      "execution_count": 16,
      "metadata": {},
      "outputs": [
        {
          "name": "stdout",
          "output_type": "stream",
          "text": [
            "Test Accuracy of the model on the 10000 test images: 91.45992366412214 %\n"
          ]
        }
      ],
      "source": [
        "\n",
        "with torch.no_grad():\n",
        "      correct = 0\n",
        "      total = 0\n",
        "      for images, labels in test_loader_alex:\n",
        "          images = images.to(device)\n",
        "          labels = labels.to(device)\n",
        "          im = torch.unsqueeze(images, dim=1)\n",
        "          im = im.float()\n",
        "          outputs = model(im)\n",
        "          _, predicted = torch.max(outputs.data, 1)\n",
        "          total += labels.size(0)\n",
        "          correct += (predicted == labels).sum().item()\n",
        "      print('Test Accuracy of the model on the 10000 test images: {} %'.format(100 * correct / total))"
      ]
    },
    {
      "cell_type": "code",
      "execution_count": 17,
      "metadata": {},
      "outputs": [
        {
          "name": "stdout",
          "output_type": "stream",
          "text": [
            "Epoch [1/17], Step [100/232], Loss: 1.0631\n",
            "Epoch [1/17], Step [200/232], Loss: 1.0519\n",
            "Epoch [2/17], Step [100/232], Loss: 0.9622\n",
            "Epoch [2/17], Step [200/232], Loss: 0.8118\n",
            "Epoch [3/17], Step [100/232], Loss: 0.8907\n",
            "Epoch [3/17], Step [200/232], Loss: 0.8267\n",
            "Epoch [4/17], Step [100/232], Loss: 0.7322\n",
            "Epoch [4/17], Step [200/232], Loss: 0.7840\n",
            "Epoch [5/17], Step [100/232], Loss: 0.6133\n",
            "Epoch [5/17], Step [200/232], Loss: 0.5668\n",
            "Epoch [6/17], Step [100/232], Loss: 0.7023\n",
            "Epoch [6/17], Step [200/232], Loss: 0.5857\n",
            "Epoch [7/17], Step [100/232], Loss: 0.6146\n",
            "Epoch [7/17], Step [200/232], Loss: 0.6463\n",
            "Epoch [8/17], Step [100/232], Loss: 0.6804\n",
            "Epoch [8/17], Step [200/232], Loss: 0.4196\n",
            "Epoch [9/17], Step [100/232], Loss: 0.3692\n",
            "Epoch [9/17], Step [200/232], Loss: 0.5379\n",
            "Epoch [10/17], Step [100/232], Loss: 0.4114\n",
            "Epoch [10/17], Step [200/232], Loss: 0.5542\n",
            "Epoch [11/17], Step [100/232], Loss: 0.2894\n",
            "Epoch [11/17], Step [200/232], Loss: 0.3613\n",
            "Epoch [12/17], Step [100/232], Loss: 0.2761\n",
            "Epoch [12/17], Step [200/232], Loss: 0.3454\n",
            "Epoch [13/17], Step [100/232], Loss: 0.4443\n",
            "Epoch [13/17], Step [200/232], Loss: 0.3895\n",
            "Epoch [14/17], Step [100/232], Loss: 0.3779\n",
            "Epoch [14/17], Step [200/232], Loss: 0.4089\n",
            "Epoch [15/17], Step [100/232], Loss: 0.4122\n",
            "Epoch [15/17], Step [200/232], Loss: 0.3872\n",
            "Epoch [16/17], Step [100/232], Loss: 0.4198\n",
            "Epoch [16/17], Step [200/232], Loss: 0.3920\n",
            "Epoch [17/17], Step [100/232], Loss: 0.2117\n",
            "Epoch [17/17], Step [200/232], Loss: 0.2652\n",
            "Finished Training Trainset\n"
          ]
        },
        {
          "data": {
            "text/plain": [
              "[<matplotlib.lines.Line2D at 0x7f06c4044c50>]"
            ]
          },
          "execution_count": 17,
          "metadata": {},
          "output_type": "execute_result"
        },
        {
          "data": {
            "image/png": "[encoded data removed]",
            "text/plain": [
              "<Figure size 432x288 with 1 Axes>"
            ]
          },
          "metadata": {
            "needs_background": "light"
          },
          "output_type": "display_data"
        }
      ],
      "source": [
        "model         = AlexNet_LeakyReLU().to(device)\n",
        "loss_fn       = nn.CrossEntropyLoss()\n",
        "optimizer     = torch.optim.Adadelta(model.parameters(), lr = learning_rate)\n",
        "#loss_train    = train(model, optimizer, loss_fn, num_epochs)\n",
        "#test(model)\n",
        "\n",
        "list_loss = train(model,optimizer,loss_fn,17, train_loader_alex)\n",
        "\n",
        "e = (len(list_loss))\n",
        "epochs = [i + 1 for i in range(e)]\n",
        "plt.title(\"Alexnet Leaky Relu\")\n",
        "plt.xlabel(\"Epocas\")\n",
        "plt.ylabel(\"Perdida\")\n",
        "plt.plot(epochs,list_loss)\n"
      ]
    },
    {
      "cell_type": "code",
      "execution_count": 18,
      "metadata": {},
      "outputs": [
        {
          "name": "stdout",
          "output_type": "stream",
          "text": [
            "Test Accuracy of the model on the 10000 test images: 85.92557251908397 %\n"
          ]
        }
      ],
      "source": [
        "\n",
        "with torch.no_grad():\n",
        "      correct = 0\n",
        "      total = 0\n",
        "      for images, labels in test_loader_alex:\n",
        "          images = images.to(device)\n",
        "          labels = labels.to(device)\n",
        "          im = torch.unsqueeze(images, dim=1)\n",
        "          im = im.float()\n",
        "          outputs = model(im)\n",
        "          _, predicted = torch.max(outputs.data, 1)\n",
        "          total += labels.size(0)\n",
        "          correct += (predicted == labels).sum().item()\n",
        "      print('Test Accuracy of the model on the 10000 test images: {} %'.format(100 * correct / total))"
      ]
    },
    {
      "cell_type": "code",
      "execution_count": 13,
      "metadata": {},
      "outputs": [],
      "source": [
        "#Obtenido de https://discuss.pytorch.org/t/simple-efficient-way-to-create-dataset/65178\n",
        "\n",
        "class ModelsDataSet(Dataset):\n",
        "    def __init__(self, array_np, transform=None):\n",
        "        super(ModelsDataSet, self).__init__()\n",
        "        self.data = array_np   \n",
        "\n",
        "    def __getitem__(self, idx):\n",
        "        img = cv2.imread(self.data[idx,0],0)\n",
        "        img = cv2.resize(img, (224, 224))\n",
        "        x = torch.tensor(img)\n",
        "        y = torch.tensor(self.data[idx,1])\n",
        "        return x, y\n",
        "\n",
        "    def __len__(self):\n",
        "        return (self.data.shape[0])\n",
        "\n",
        "x = cv2.imread(data_np[1][0], 0)\n",
        "y = data_np[1][1]\n",
        "X_train, X_rest, y_train, y_rest = train_test_split(data_np[:,0], data_np[:,1], test_size=0.3, shuffle=True)\n",
        "X_val, X_test, y_val, y_test = train_test_split(X_rest, y_rest, test_size=0.33, shuffle=True)\n",
        "\n",
        "train = np.c_[X_train, y_train]\n",
        "validation = np.c_[X_val, y_val]\n",
        "test = np.c_[X_test, y_test]\n",
        "\n",
        "train_loader_mod = ModelsDataSet(train)\n",
        "test_loader_mod = ModelsDataSet(test)\n",
        "validation_loader_mod =  ModelsDataSet(validation)\n",
        "\n",
        "train_loader_mod = torch.utils.data.DataLoader(dataset=train_loader_mod, batch_size=batch_size, shuffle=True)\n",
        "test_loader_mod = torch.utils.data.DataLoader(dataset=test_loader_mod, batch_size=batch_size, shuffle=False)\n",
        "validation_loader_mod = torch.utils.data.DataLoader(dataset=validation_loader_mod, batch_size=batch_size, shuffle=False)\n"
      ]
    },
    {
      "cell_type": "code",
      "execution_count": 8,
      "metadata": {},
      "outputs": [],
      "source": [
        "class ResidualBlock(nn.Module):\n",
        "    def __init__(self, in_channels, out_channels, stride = 1, downsample = None):\n",
        "        super(ResidualBlock, self).__init__()\n",
        "        self.conv1 = nn.Sequential(\n",
        "                        nn.Conv2d(in_channels, out_channels, kernel_size = 3, stride = stride, padding = 1),\n",
        "                        nn.BatchNorm2d(out_channels),\n",
        "                        nn.ReLU())\n",
        "        self.conv2 = nn.Sequential(\n",
        "                        nn.Conv2d(out_channels, out_channels, kernel_size = 3, stride = 1, padding = 1),\n",
        "                        nn.BatchNorm2d(out_channels))\n",
        "        self.downsample = downsample\n",
        "        self.relu = nn.ReLU()\n",
        "        self.out_channels = out_channels\n",
        "        \n",
        "    def forward(self, x):\n",
        "        residual = x\n",
        "        out = self.conv1(x)\n",
        "        out = self.conv2(out)\n",
        "        if self.downsample:\n",
        "            residual = self.downsample(x)\n",
        "        out += residual\n",
        "        out = self.relu(out)\n",
        "        return out\n",
        "\n",
        "\n",
        "class ResNet(nn.Module):\n",
        "    def __init__(self, block, layers, num_classes = 4):\n",
        "        super(ResNet, self).__init__()\n",
        "        self.inplanes = 64\n",
        "        self.conv1 = nn.Sequential(\n",
        "                        nn.Conv2d(1, 64, kernel_size = 7, stride = 2, padding = 3),\n",
        "                        nn.BatchNorm2d(64),\n",
        "                        nn.ReLU())\n",
        "        self.maxpool = nn.MaxPool2d(kernel_size = 3, stride = 2, padding = 1)\n",
        "        self.layer0 = self._make_layer(block, 64, layers[0], stride = 1)\n",
        "        self.layer1 = self._make_layer(block, 128, layers[1], stride = 2)\n",
        "        self.layer2 = self._make_layer(block, 256, layers[2], stride = 2)\n",
        "        self.layer3 = self._make_layer(block, 512, layers[3], stride = 2)\n",
        "        self.avgpool = nn.AvgPool2d(7, stride=1)\n",
        "        self.fc = nn.Linear(512, num_classes)\n",
        "        \n",
        "    def _make_layer(self, block, planes, blocks, stride=1):\n",
        "        downsample = None\n",
        "        if stride != 1 or self.inplanes != planes:\n",
        "            \n",
        "            downsample = nn.Sequential(\n",
        "                nn.Conv2d(self.inplanes, planes, kernel_size=1, stride=stride),\n",
        "                nn.BatchNorm2d(planes),\n",
        "            )\n",
        "        layers = []\n",
        "        layers.append(block(self.inplanes, planes, stride, downsample))\n",
        "        self.inplanes = planes\n",
        "        for i in range(1, blocks):\n",
        "            layers.append(block(self.inplanes, planes))\n",
        "\n",
        "        return nn.Sequential(*layers)\n",
        "    \n",
        "    \n",
        "    def forward(self, x):\n",
        "        x = self.conv1(x)\n",
        "        x = self.maxpool(x)\n",
        "        x = self.layer0(x)\n",
        "        x = self.layer1(x)\n",
        "        x = self.layer2(x)\n",
        "        x = self.layer3(x)\n",
        "\n",
        "        x = self.avgpool(x)\n",
        "        x = x.view(x.size(0), -1)\n",
        "        x = self.fc(x)\n",
        "\n",
        "        return x"
      ]
    },
    {
      "cell_type": "code",
      "execution_count": 44,
      "metadata": {},
      "outputs": [
        {
          "ename": "RuntimeError",
          "evalue": "CUDA error: unknown error\nCUDA kernel errors might be asynchronously reported at some other API call,so the stacktrace below might be incorrect.\nFor debugging consider passing CUDA_LAUNCH_BLOCKING=1.",
          "output_type": "error",
          "traceback": [
            "\u001b[0;31m---------------------------------------------------------------------------\u001b[0m",
            "\u001b[0;31mRuntimeError\u001b[0m                              Traceback (most recent call last)",
            "\u001b[0;32m/tmp/ipykernel_25546/3674747118.py\u001b[0m in \u001b[0;36m<module>\u001b[0;34m\u001b[0m\n\u001b[0;32m----> 1\u001b[0;31m \u001b[0mmodel\u001b[0m         \u001b[0;34m=\u001b[0m \u001b[0mResNet\u001b[0m\u001b[0;34m(\u001b[0m\u001b[0mResidualBlock\u001b[0m\u001b[0;34m,\u001b[0m \u001b[0;34m[\u001b[0m\u001b[0;36m3\u001b[0m\u001b[0;34m,\u001b[0m\u001b[0;36m4\u001b[0m\u001b[0;34m,\u001b[0m\u001b[0;36m13\u001b[0m\u001b[0;34m,\u001b[0m\u001b[0;36m3\u001b[0m\u001b[0;34m]\u001b[0m\u001b[0;34m)\u001b[0m\u001b[0;34m.\u001b[0m\u001b[0mto\u001b[0m\u001b[0;34m(\u001b[0m\u001b[0mdevice\u001b[0m\u001b[0;34m)\u001b[0m\u001b[0;34m\u001b[0m\u001b[0;34m\u001b[0m\u001b[0m\n\u001b[0m\u001b[1;32m      2\u001b[0m \u001b[0mloss_fn\u001b[0m       \u001b[0;34m=\u001b[0m \u001b[0mnn\u001b[0m\u001b[0;34m.\u001b[0m\u001b[0mCrossEntropyLoss\u001b[0m\u001b[0;34m(\u001b[0m\u001b[0;34m)\u001b[0m\u001b[0;34m\u001b[0m\u001b[0;34m\u001b[0m\u001b[0m\n\u001b[1;32m      3\u001b[0m \u001b[0moptimizer\u001b[0m     \u001b[0;34m=\u001b[0m \u001b[0mtorch\u001b[0m\u001b[0;34m.\u001b[0m\u001b[0moptim\u001b[0m\u001b[0;34m.\u001b[0m\u001b[0mAdam\u001b[0m\u001b[0;34m(\u001b[0m\u001b[0mmodel\u001b[0m\u001b[0;34m.\u001b[0m\u001b[0mparameters\u001b[0m\u001b[0;34m(\u001b[0m\u001b[0;34m)\u001b[0m\u001b[0;34m,\u001b[0m \u001b[0mlr\u001b[0m \u001b[0;34m=\u001b[0m \u001b[0mlearning_rate\u001b[0m\u001b[0;34m)\u001b[0m\u001b[0;34m\u001b[0m\u001b[0;34m\u001b[0m\u001b[0m\n\u001b[1;32m      4\u001b[0m \u001b[0;31m#loss_train    = train(model, optimizer, loss_fn, num_epochs)\u001b[0m\u001b[0;34m\u001b[0m\u001b[0;34m\u001b[0m\u001b[0;34m\u001b[0m\u001b[0m\n\u001b[1;32m      5\u001b[0m \u001b[0;31m#test(model)\u001b[0m\u001b[0;34m\u001b[0m\u001b[0;34m\u001b[0m\u001b[0;34m\u001b[0m\u001b[0m\n",
            "\u001b[0;32m~/anaconda3/envs/utec-bigdata-2022-1/lib/python3.7/site-packages/torch/nn/modules/module.py\u001b[0m in \u001b[0;36mto\u001b[0;34m(self, *args, **kwargs)\u001b[0m\n\u001b[1;32m    905\u001b[0m             \u001b[0;32mreturn\u001b[0m \u001b[0mt\u001b[0m\u001b[0;34m.\u001b[0m\u001b[0mto\u001b[0m\u001b[0;34m(\u001b[0m\u001b[0mdevice\u001b[0m\u001b[0;34m,\u001b[0m \u001b[0mdtype\u001b[0m \u001b[0;32mif\u001b[0m \u001b[0mt\u001b[0m\u001b[0;34m.\u001b[0m\u001b[0mis_floating_point\u001b[0m\u001b[0;34m(\u001b[0m\u001b[0;34m)\u001b[0m \u001b[0;32mor\u001b[0m \u001b[0mt\u001b[0m\u001b[0;34m.\u001b[0m\u001b[0mis_complex\u001b[0m\u001b[0;34m(\u001b[0m\u001b[0;34m)\u001b[0m \u001b[0;32melse\u001b[0m \u001b[0;32mNone\u001b[0m\u001b[0;34m,\u001b[0m \u001b[0mnon_blocking\u001b[0m\u001b[0;34m)\u001b[0m\u001b[0;34m\u001b[0m\u001b[0;34m\u001b[0m\u001b[0m\n\u001b[1;32m    906\u001b[0m \u001b[0;34m\u001b[0m\u001b[0m\n\u001b[0;32m--> 907\u001b[0;31m         \u001b[0;32mreturn\u001b[0m \u001b[0mself\u001b[0m\u001b[0;34m.\u001b[0m\u001b[0m_apply\u001b[0m\u001b[0;34m(\u001b[0m\u001b[0mconvert\u001b[0m\u001b[0;34m)\u001b[0m\u001b[0;34m\u001b[0m\u001b[0;34m\u001b[0m\u001b[0m\n\u001b[0m\u001b[1;32m    908\u001b[0m \u001b[0;34m\u001b[0m\u001b[0m\n\u001b[1;32m    909\u001b[0m     def register_backward_hook(\n",
            "\u001b[0;32m~/anaconda3/envs/utec-bigdata-2022-1/lib/python3.7/site-packages/torch/nn/modules/module.py\u001b[0m in \u001b[0;36m_apply\u001b[0;34m(self, fn)\u001b[0m\n\u001b[1;32m    576\u001b[0m     \u001b[0;32mdef\u001b[0m \u001b[0m_apply\u001b[0m\u001b[0;34m(\u001b[0m\u001b[0mself\u001b[0m\u001b[0;34m,\u001b[0m \u001b[0mfn\u001b[0m\u001b[0;34m)\u001b[0m\u001b[0;34m:\u001b[0m\u001b[0;34m\u001b[0m\u001b[0;34m\u001b[0m\u001b[0m\n\u001b[1;32m    577\u001b[0m         \u001b[0;32mfor\u001b[0m \u001b[0mmodule\u001b[0m \u001b[0;32min\u001b[0m \u001b[0mself\u001b[0m\u001b[0;34m.\u001b[0m\u001b[0mchildren\u001b[0m\u001b[0;34m(\u001b[0m\u001b[0;34m)\u001b[0m\u001b[0;34m:\u001b[0m\u001b[0;34m\u001b[0m\u001b[0;34m\u001b[0m\u001b[0m\n\u001b[0;32m--> 578\u001b[0;31m             \u001b[0mmodule\u001b[0m\u001b[0;34m.\u001b[0m\u001b[0m_apply\u001b[0m\u001b[0;34m(\u001b[0m\u001b[0mfn\u001b[0m\u001b[0;34m)\u001b[0m\u001b[0;34m\u001b[0m\u001b[0;34m\u001b[0m\u001b[0m\n\u001b[0m\u001b[1;32m    579\u001b[0m \u001b[0;34m\u001b[0m\u001b[0m\n\u001b[1;32m    580\u001b[0m         \u001b[0;32mdef\u001b[0m \u001b[0mcompute_should_use_set_data\u001b[0m\u001b[0;34m(\u001b[0m\u001b[0mtensor\u001b[0m\u001b[0;34m,\u001b[0m \u001b[0mtensor_applied\u001b[0m\u001b[0;34m)\u001b[0m\u001b[0;34m:\u001b[0m\u001b[0;34m\u001b[0m\u001b[0;34m\u001b[0m\u001b[0m\n",
            "\u001b[0;32m~/anaconda3/envs/utec-bigdata-2022-1/lib/python3.7/site-packages/torch/nn/modules/module.py\u001b[0m in \u001b[0;36m_apply\u001b[0;34m(self, fn)\u001b[0m\n\u001b[1;32m    576\u001b[0m     \u001b[0;32mdef\u001b[0m \u001b[0m_apply\u001b[0m\u001b[0;34m(\u001b[0m\u001b[0mself\u001b[0m\u001b[0;34m,\u001b[0m \u001b[0mfn\u001b[0m\u001b[0;34m)\u001b[0m\u001b[0;34m:\u001b[0m\u001b[0;34m\u001b[0m\u001b[0;34m\u001b[0m\u001b[0m\n\u001b[1;32m    577\u001b[0m         \u001b[0;32mfor\u001b[0m \u001b[0mmodule\u001b[0m \u001b[0;32min\u001b[0m \u001b[0mself\u001b[0m\u001b[0;34m.\u001b[0m\u001b[0mchildren\u001b[0m\u001b[0;34m(\u001b[0m\u001b[0;34m)\u001b[0m\u001b[0;34m:\u001b[0m\u001b[0;34m\u001b[0m\u001b[0;34m\u001b[0m\u001b[0m\n\u001b[0;32m--> 578\u001b[0;31m             \u001b[0mmodule\u001b[0m\u001b[0;34m.\u001b[0m\u001b[0m_apply\u001b[0m\u001b[0;34m(\u001b[0m\u001b[0mfn\u001b[0m\u001b[0;34m)\u001b[0m\u001b[0;34m\u001b[0m\u001b[0;34m\u001b[0m\u001b[0m\n\u001b[0m\u001b[1;32m    579\u001b[0m \u001b[0;34m\u001b[0m\u001b[0m\n\u001b[1;32m    580\u001b[0m         \u001b[0;32mdef\u001b[0m \u001b[0mcompute_should_use_set_data\u001b[0m\u001b[0;34m(\u001b[0m\u001b[0mtensor\u001b[0m\u001b[0;34m,\u001b[0m \u001b[0mtensor_applied\u001b[0m\u001b[0;34m)\u001b[0m\u001b[0;34m:\u001b[0m\u001b[0;34m\u001b[0m\u001b[0;34m\u001b[0m\u001b[0m\n",
            "\u001b[0;32m~/anaconda3/envs/utec-bigdata-2022-1/lib/python3.7/site-packages/torch/nn/modules/module.py\u001b[0m in \u001b[0;36m_apply\u001b[0;34m(self, fn)\u001b[0m\n\u001b[1;32m    576\u001b[0m     \u001b[0;32mdef\u001b[0m \u001b[0m_apply\u001b[0m\u001b[0;34m(\u001b[0m\u001b[0mself\u001b[0m\u001b[0;34m,\u001b[0m \u001b[0mfn\u001b[0m\u001b[0;34m)\u001b[0m\u001b[0;34m:\u001b[0m\u001b[0;34m\u001b[0m\u001b[0;34m\u001b[0m\u001b[0m\n\u001b[1;32m    577\u001b[0m         \u001b[0;32mfor\u001b[0m \u001b[0mmodule\u001b[0m \u001b[0;32min\u001b[0m \u001b[0mself\u001b[0m\u001b[0;34m.\u001b[0m\u001b[0mchildren\u001b[0m\u001b[0;34m(\u001b[0m\u001b[0;34m)\u001b[0m\u001b[0;34m:\u001b[0m\u001b[0;34m\u001b[0m\u001b[0;34m\u001b[0m\u001b[0m\n\u001b[0;32m--> 578\u001b[0;31m             \u001b[0mmodule\u001b[0m\u001b[0;34m.\u001b[0m\u001b[0m_apply\u001b[0m\u001b[0;34m(\u001b[0m\u001b[0mfn\u001b[0m\u001b[0;34m)\u001b[0m\u001b[0;34m\u001b[0m\u001b[0;34m\u001b[0m\u001b[0m\n\u001b[0m\u001b[1;32m    579\u001b[0m \u001b[0;34m\u001b[0m\u001b[0m\n\u001b[1;32m    580\u001b[0m         \u001b[0;32mdef\u001b[0m \u001b[0mcompute_should_use_set_data\u001b[0m\u001b[0;34m(\u001b[0m\u001b[0mtensor\u001b[0m\u001b[0;34m,\u001b[0m \u001b[0mtensor_applied\u001b[0m\u001b[0;34m)\u001b[0m\u001b[0;34m:\u001b[0m\u001b[0;34m\u001b[0m\u001b[0;34m\u001b[0m\u001b[0m\n",
            "\u001b[0;32m~/anaconda3/envs/utec-bigdata-2022-1/lib/python3.7/site-packages/torch/nn/modules/module.py\u001b[0m in \u001b[0;36m_apply\u001b[0;34m(self, fn)\u001b[0m\n\u001b[1;32m    576\u001b[0m     \u001b[0;32mdef\u001b[0m \u001b[0m_apply\u001b[0m\u001b[0;34m(\u001b[0m\u001b[0mself\u001b[0m\u001b[0;34m,\u001b[0m \u001b[0mfn\u001b[0m\u001b[0;34m)\u001b[0m\u001b[0;34m:\u001b[0m\u001b[0;34m\u001b[0m\u001b[0;34m\u001b[0m\u001b[0m\n\u001b[1;32m    577\u001b[0m         \u001b[0;32mfor\u001b[0m \u001b[0mmodule\u001b[0m \u001b[0;32min\u001b[0m \u001b[0mself\u001b[0m\u001b[0;34m.\u001b[0m\u001b[0mchildren\u001b[0m\u001b[0;34m(\u001b[0m\u001b[0;34m)\u001b[0m\u001b[0;34m:\u001b[0m\u001b[0;34m\u001b[0m\u001b[0;34m\u001b[0m\u001b[0m\n\u001b[0;32m--> 578\u001b[0;31m             \u001b[0mmodule\u001b[0m\u001b[0;34m.\u001b[0m\u001b[0m_apply\u001b[0m\u001b[0;34m(\u001b[0m\u001b[0mfn\u001b[0m\u001b[0;34m)\u001b[0m\u001b[0;34m\u001b[0m\u001b[0;34m\u001b[0m\u001b[0m\n\u001b[0m\u001b[1;32m    579\u001b[0m \u001b[0;34m\u001b[0m\u001b[0m\n\u001b[1;32m    580\u001b[0m         \u001b[0;32mdef\u001b[0m \u001b[0mcompute_should_use_set_data\u001b[0m\u001b[0;34m(\u001b[0m\u001b[0mtensor\u001b[0m\u001b[0;34m,\u001b[0m \u001b[0mtensor_applied\u001b[0m\u001b[0;34m)\u001b[0m\u001b[0;34m:\u001b[0m\u001b[0;34m\u001b[0m\u001b[0;34m\u001b[0m\u001b[0m\n",
            "\u001b[0;32m~/anaconda3/envs/utec-bigdata-2022-1/lib/python3.7/site-packages/torch/nn/modules/module.py\u001b[0m in \u001b[0;36m_apply\u001b[0;34m(self, fn)\u001b[0m\n\u001b[1;32m    599\u001b[0m             \u001b[0;31m# `with torch.no_grad():`\u001b[0m\u001b[0;34m\u001b[0m\u001b[0;34m\u001b[0m\u001b[0;34m\u001b[0m\u001b[0m\n\u001b[1;32m    600\u001b[0m             \u001b[0;32mwith\u001b[0m \u001b[0mtorch\u001b[0m\u001b[0;34m.\u001b[0m\u001b[0mno_grad\u001b[0m\u001b[0;34m(\u001b[0m\u001b[0;34m)\u001b[0m\u001b[0;34m:\u001b[0m\u001b[0;34m\u001b[0m\u001b[0;34m\u001b[0m\u001b[0m\n\u001b[0;32m--> 601\u001b[0;31m                 \u001b[0mparam_applied\u001b[0m \u001b[0;34m=\u001b[0m \u001b[0mfn\u001b[0m\u001b[0;34m(\u001b[0m\u001b[0mparam\u001b[0m\u001b[0;34m)\u001b[0m\u001b[0;34m\u001b[0m\u001b[0;34m\u001b[0m\u001b[0m\n\u001b[0m\u001b[1;32m    602\u001b[0m             \u001b[0mshould_use_set_data\u001b[0m \u001b[0;34m=\u001b[0m \u001b[0mcompute_should_use_set_data\u001b[0m\u001b[0;34m(\u001b[0m\u001b[0mparam\u001b[0m\u001b[0;34m,\u001b[0m \u001b[0mparam_applied\u001b[0m\u001b[0;34m)\u001b[0m\u001b[0;34m\u001b[0m\u001b[0;34m\u001b[0m\u001b[0m\n\u001b[1;32m    603\u001b[0m             \u001b[0;32mif\u001b[0m \u001b[0mshould_use_set_data\u001b[0m\u001b[0;34m:\u001b[0m\u001b[0;34m\u001b[0m\u001b[0;34m\u001b[0m\u001b[0m\n",
            "\u001b[0;32m~/anaconda3/envs/utec-bigdata-2022-1/lib/python3.7/site-packages/torch/nn/modules/module.py\u001b[0m in \u001b[0;36mconvert\u001b[0;34m(t)\u001b[0m\n\u001b[1;32m    903\u001b[0m                 return t.to(device, dtype if t.is_floating_point() or t.is_complex() else None,\n\u001b[1;32m    904\u001b[0m                             non_blocking, memory_format=convert_to_format)\n\u001b[0;32m--> 905\u001b[0;31m             \u001b[0;32mreturn\u001b[0m \u001b[0mt\u001b[0m\u001b[0;34m.\u001b[0m\u001b[0mto\u001b[0m\u001b[0;34m(\u001b[0m\u001b[0mdevice\u001b[0m\u001b[0;34m,\u001b[0m \u001b[0mdtype\u001b[0m \u001b[0;32mif\u001b[0m \u001b[0mt\u001b[0m\u001b[0;34m.\u001b[0m\u001b[0mis_floating_point\u001b[0m\u001b[0;34m(\u001b[0m\u001b[0;34m)\u001b[0m \u001b[0;32mor\u001b[0m \u001b[0mt\u001b[0m\u001b[0;34m.\u001b[0m\u001b[0mis_complex\u001b[0m\u001b[0;34m(\u001b[0m\u001b[0;34m)\u001b[0m \u001b[0;32melse\u001b[0m \u001b[0;32mNone\u001b[0m\u001b[0;34m,\u001b[0m \u001b[0mnon_blocking\u001b[0m\u001b[0;34m)\u001b[0m\u001b[0;34m\u001b[0m\u001b[0;34m\u001b[0m\u001b[0m\n\u001b[0m\u001b[1;32m    906\u001b[0m \u001b[0;34m\u001b[0m\u001b[0m\n\u001b[1;32m    907\u001b[0m         \u001b[0;32mreturn\u001b[0m \u001b[0mself\u001b[0m\u001b[0;34m.\u001b[0m\u001b[0m_apply\u001b[0m\u001b[0;34m(\u001b[0m\u001b[0mconvert\u001b[0m\u001b[0;34m)\u001b[0m\u001b[0;34m\u001b[0m\u001b[0;34m\u001b[0m\u001b[0m\n",
            "\u001b[0;31mRuntimeError\u001b[0m: CUDA error: unknown error\nCUDA kernel errors might be asynchronously reported at some other API call,so the stacktrace below might be incorrect.\nFor debugging consider passing CUDA_LAUNCH_BLOCKING=1."
          ]
        }
      ],
      "source": [
        "model         = ResNet(ResidualBlock, [3,4,13,3]).to(device)\n",
        "loss_fn       = nn.CrossEntropyLoss()\n",
        "optimizer     = torch.optim.Adam(model.parameters(), lr = learning_rate)\n",
        "#loss_train    = train(model, optimizer, loss_fn, num_epochs)\n",
        "#test(model)\n",
        "\n",
        "list_loss = train(model,optimizer,loss_fn,17, train_loader_mod)\n",
        "\n",
        "e = (len(list_loss))\n",
        "epochs = [i + 1 for i in range(e)]\n",
        "plt.title(\"ResNet\")\n",
        "plt.xlabel(\"Epocas\")\n",
        "plt.ylabel(\"Perdida\")\n",
        "plt.plot(epochs,list_loss)\n"
      ]
    },
    {
      "cell_type": "code",
      "execution_count": null,
      "metadata": {},
      "outputs": [
        {
          "name": "stdout",
          "output_type": "stream",
          "text": [
            "Test Accuracy of the model on the 10000 test images: 92.70038167938931 %\n"
          ]
        }
      ],
      "source": [
        "\n",
        "with torch.no_grad():\n",
        "      correct = 0\n",
        "      total = 0\n",
        "      for images, labels in test_loader_mod:\n",
        "          images = images.to(device)\n",
        "          labels = labels.to(device)\n",
        "          im = torch.unsqueeze(images, dim=1)\n",
        "          im = im.float()\n",
        "          outputs = model(im)\n",
        "          _, predicted = torch.max(outputs.data, 1)\n",
        "          total += labels.size(0)\n",
        "          correct += (predicted == labels).sum().item()\n",
        "      print('Test Accuracy of the model on the 10000 test images: {} %'.format(100 * correct / total))"
      ]
    },
    {
      "cell_type": "code",
      "execution_count": 15,
      "metadata": {},
      "outputs": [
        {
          "name": "stdout",
          "output_type": "stream",
          "text": [
            "Epoch [1/17], Step [100/232], Loss: 0.7666\n",
            "Epoch [1/17], Step [200/232], Loss: 0.4984\n",
            "Epoch [2/17], Step [100/232], Loss: 0.3665\n",
            "Epoch [2/17], Step [200/232], Loss: 0.3449\n",
            "Epoch [3/17], Step [100/232], Loss: 0.2648\n",
            "Epoch [3/17], Step [200/232], Loss: 0.3772\n",
            "Epoch [4/17], Step [100/232], Loss: 0.2661\n",
            "Epoch [4/17], Step [200/232], Loss: 0.2813\n",
            "Epoch [5/17], Step [100/232], Loss: 0.1873\n",
            "Epoch [5/17], Step [200/232], Loss: 0.2171\n",
            "Epoch [6/17], Step [100/232], Loss: 0.2930\n",
            "Epoch [6/17], Step [200/232], Loss: 0.1094\n",
            "Epoch [7/17], Step [100/232], Loss: 0.2000\n",
            "Epoch [7/17], Step [200/232], Loss: 0.1183\n",
            "Epoch [8/17], Step [100/232], Loss: 0.2379\n",
            "Epoch [8/17], Step [200/232], Loss: 0.1562\n",
            "Epoch [9/17], Step [100/232], Loss: 0.0694\n",
            "Epoch [9/17], Step [200/232], Loss: 0.1225\n",
            "Epoch [10/17], Step [100/232], Loss: 0.0814\n",
            "Epoch [10/17], Step [200/232], Loss: 0.1327\n",
            "Epoch [11/17], Step [100/232], Loss: 0.2696\n",
            "Epoch [11/17], Step [200/232], Loss: 0.1208\n",
            "Epoch [12/17], Step [100/232], Loss: 0.1799\n",
            "Epoch [12/17], Step [200/232], Loss: 0.1161\n",
            "Epoch [13/17], Step [100/232], Loss: 0.1076\n",
            "Epoch [13/17], Step [200/232], Loss: 0.1444\n",
            "Epoch [14/17], Step [100/232], Loss: 0.1069\n",
            "Epoch [14/17], Step [200/232], Loss: 0.1208\n",
            "Epoch [15/17], Step [100/232], Loss: 0.0342\n",
            "Epoch [15/17], Step [200/232], Loss: 0.0319\n",
            "Epoch [16/17], Step [100/232], Loss: 0.0377\n",
            "Epoch [16/17], Step [200/232], Loss: 0.0841\n",
            "Epoch [17/17], Step [100/232], Loss: 0.0032\n",
            "Epoch [17/17], Step [200/232], Loss: 0.1507\n",
            "Finished Training Trainset\n"
          ]
        },
        {
          "data": {
            "text/plain": [
              "[<matplotlib.lines.Line2D at 0x7fd02cf4f750>]"
            ]
          },
          "execution_count": 15,
          "metadata": {},
          "output_type": "execute_result"
        },
        {
          "data": {
            "image/png": "[encoded data removed]",
            "text/plain": [
              "<Figure size 432x288 with 1 Axes>"
            ]
          },
          "metadata": {
            "needs_background": "light"
          },
          "output_type": "display_data"
        }
      ],
      "source": [
        "model         = ResNet(ResidualBlock, [3,4,6,3]).to(device)\n",
        "loss_fn       = nn.CrossEntropyLoss()\n",
        "optimizer     = torch.optim.NAdam(model.parameters(), lr = learning_rate)\n",
        "#loss_train    = train(model, optimizer, loss_fn, num_epochs)\n",
        "#test(model)\n",
        "\n",
        "list_loss = train(model,optimizer,loss_fn,17, train_loader_mod)\n",
        "\n",
        "e = (len(list_loss))\n",
        "epochs = [i + 1 for i in range(e)]\n",
        "plt.title(\"ResNet\")\n",
        "plt.xlabel(\"Epocas\")\n",
        "plt.ylabel(\"Perdida\")\n",
        "plt.plot(epochs,list_loss)\n"
      ]
    },
    {
      "cell_type": "code",
      "execution_count": 16,
      "metadata": {},
      "outputs": [
        {
          "name": "stdout",
          "output_type": "stream",
          "text": [
            "Test Accuracy of the model on the 10000 test images: 92.12786259541984 %\n"
          ]
        }
      ],
      "source": [
        "\n",
        "with torch.no_grad():\n",
        "      correct = 0\n",
        "      total = 0\n",
        "      for images, labels in test_loader_mod:\n",
        "          images = images.to(device)\n",
        "          labels = labels.to(device)\n",
        "          im = torch.unsqueeze(images, dim=1)\n",
        "          im = im.float()\n",
        "          outputs = model(im)\n",
        "          _, predicted = torch.max(outputs.data, 1)\n",
        "          total += labels.size(0)\n",
        "          correct += (predicted == labels).sum().item()\n",
        "      print('Test Accuracy of the model on the 10000 test images: {} %'.format(100 * correct / total))"
      ]
    },
    {
      "cell_type": "code",
      "execution_count": 17,
      "metadata": {},
      "outputs": [
        {
          "name": "stdout",
          "output_type": "stream",
          "text": [
            "Epoch [1/17], Step [100/232], Loss: 1.0876\n",
            "Epoch [1/17], Step [200/232], Loss: 0.9523\n",
            "Epoch [2/17], Step [100/232], Loss: 0.7820\n",
            "Epoch [2/17], Step [200/232], Loss: 0.7538\n",
            "Epoch [3/17], Step [100/232], Loss: 0.5817\n",
            "Epoch [3/17], Step [200/232], Loss: 0.5536\n",
            "Epoch [4/17], Step [100/232], Loss: 0.6266\n",
            "Epoch [4/17], Step [200/232], Loss: 0.4434\n",
            "Epoch [5/17], Step [100/232], Loss: 0.4507\n",
            "Epoch [5/17], Step [200/232], Loss: 0.4335\n",
            "Epoch [6/17], Step [100/232], Loss: 0.5247\n",
            "Epoch [6/17], Step [200/232], Loss: 0.3115\n",
            "Epoch [7/17], Step [100/232], Loss: 0.2781\n",
            "Epoch [7/17], Step [200/232], Loss: 0.3343\n",
            "Epoch [8/17], Step [100/232], Loss: 0.2580\n",
            "Epoch [8/17], Step [200/232], Loss: 0.1543\n",
            "Epoch [9/17], Step [100/232], Loss: 0.1150\n",
            "Epoch [9/17], Step [200/232], Loss: 0.1775\n",
            "Epoch [10/17], Step [100/232], Loss: 0.1913\n",
            "Epoch [10/17], Step [200/232], Loss: 0.0605\n",
            "Epoch [11/17], Step [100/232], Loss: 0.1149\n",
            "Epoch [11/17], Step [200/232], Loss: 0.1597\n",
            "Epoch [12/17], Step [100/232], Loss: 0.0743\n",
            "Epoch [12/17], Step [200/232], Loss: 0.0828\n",
            "Epoch [13/17], Step [100/232], Loss: 0.0781\n",
            "Epoch [13/17], Step [200/232], Loss: 0.0404\n",
            "Epoch [14/17], Step [100/232], Loss: 0.0904\n",
            "Epoch [14/17], Step [200/232], Loss: 0.0314\n",
            "Epoch [15/17], Step [100/232], Loss: 0.0433\n",
            "Epoch [15/17], Step [200/232], Loss: 0.0273\n",
            "Epoch [16/17], Step [100/232], Loss: 0.0333\n",
            "Epoch [16/17], Step [200/232], Loss: 0.0355\n",
            "Epoch [17/17], Step [100/232], Loss: 0.0153\n",
            "Epoch [17/17], Step [200/232], Loss: 0.0237\n",
            "Finished Training Trainset\n"
          ]
        },
        {
          "data": {
            "text/plain": [
              "[<matplotlib.lines.Line2D at 0x7fd02c900c10>]"
            ]
          },
          "execution_count": 17,
          "metadata": {},
          "output_type": "execute_result"
        },
        {
          "data": {
            "image/png": "[encoded data removed]",
            "text/plain": [
              "<Figure size 432x288 with 1 Axes>"
            ]
          },
          "metadata": {
            "needs_background": "light"
          },
          "output_type": "display_data"
        }
      ],
      "source": [
        "model         = ResNet(ResidualBlock, [3,4,6,3]).to(device)\n",
        "loss_fn       = nn.CrossEntropyLoss()\n",
        "optimizer     = torch.optim.Adadelta(model.parameters(), lr = learning_rate)\n",
        "#loss_train    = train(model, optimizer, loss_fn, num_epochs)\n",
        "#test(model)\n",
        "\n",
        "list_loss = train(model,optimizer,loss_fn,17, train_loader_mod)\n",
        "\n",
        "e = (len(list_loss))\n",
        "epochs = [i + 1 for i in range(e)]\n",
        "plt.title(\"ResNet\")\n",
        "plt.xlabel(\"Epocas\")\n",
        "plt.ylabel(\"Perdida\")\n",
        "plt.plot(epochs,list_loss)\n"
      ]
    },
    {
      "cell_type": "code",
      "execution_count": 18,
      "metadata": {},
      "outputs": [
        {
          "name": "stdout",
          "output_type": "stream",
          "text": [
            "Test Accuracy of the model on the 10000 test images: 86.11641221374046 %\n"
          ]
        }
      ],
      "source": [
        "\n",
        "with torch.no_grad():\n",
        "      correct = 0\n",
        "      total = 0\n",
        "      for images, labels in test_loader_mod:\n",
        "          images = images.to(device)\n",
        "          labels = labels.to(device)\n",
        "          im = torch.unsqueeze(images, dim=1)\n",
        "          im = im.float()\n",
        "          outputs = model(im)\n",
        "          _, predicted = torch.max(outputs.data, 1)\n",
        "          total += labels.size(0)\n",
        "          correct += (predicted == labels).sum().item()\n",
        "      print('Test Accuracy of the model on the 10000 test images: {} %'.format(100 * correct / total))"
      ]
    },
    {
      "cell_type": "code",
      "execution_count": 11,
      "metadata": {},
      "outputs": [
        {
          "name": "stdout",
          "output_type": "stream",
          "text": [
            "Epoch [1/17], Step [100/463], Loss: 0.4984\n",
            "Epoch [1/17], Step [200/463], Loss: 0.3663\n",
            "Epoch [1/17], Step [300/463], Loss: 0.4335\n",
            "Epoch [1/17], Step [400/463], Loss: 0.3315\n",
            "Epoch [2/17], Step [100/463], Loss: 0.3433\n",
            "Epoch [2/17], Step [200/463], Loss: 0.2544\n",
            "Epoch [2/17], Step [300/463], Loss: 0.4116\n",
            "Epoch [2/17], Step [400/463], Loss: 0.5917\n",
            "Epoch [3/17], Step [100/463], Loss: 0.1153\n",
            "Epoch [3/17], Step [200/463], Loss: 0.1853\n",
            "Epoch [3/17], Step [300/463], Loss: 0.2046\n",
            "Epoch [3/17], Step [400/463], Loss: 0.1396\n",
            "Epoch [4/17], Step [100/463], Loss: 0.1759\n",
            "Epoch [4/17], Step [200/463], Loss: 0.0976\n",
            "Epoch [4/17], Step [300/463], Loss: 0.1102\n",
            "Epoch [4/17], Step [400/463], Loss: 0.0850\n",
            "Epoch [5/17], Step [100/463], Loss: 0.1339\n",
            "Epoch [5/17], Step [200/463], Loss: 0.0905\n",
            "Epoch [5/17], Step [300/463], Loss: 0.0408\n",
            "Epoch [5/17], Step [400/463], Loss: 0.1277\n",
            "Epoch [6/17], Step [100/463], Loss: 0.0370\n",
            "Epoch [6/17], Step [200/463], Loss: 0.0272\n",
            "Epoch [6/17], Step [300/463], Loss: 0.0530\n",
            "Epoch [6/17], Step [400/463], Loss: 0.0283\n",
            "Epoch [7/17], Step [100/463], Loss: 0.0899\n",
            "Epoch [7/17], Step [200/463], Loss: 0.0219\n",
            "Epoch [7/17], Step [300/463], Loss: 0.0409\n",
            "Epoch [7/17], Step [400/463], Loss: 0.0034\n",
            "Epoch [8/17], Step [100/463], Loss: 0.1439\n",
            "Epoch [8/17], Step [200/463], Loss: 0.0161\n",
            "Epoch [8/17], Step [300/463], Loss: 0.0369\n",
            "Epoch [8/17], Step [400/463], Loss: 0.0313\n",
            "Epoch [9/17], Step [100/463], Loss: 0.1286\n",
            "Epoch [9/17], Step [200/463], Loss: 0.0032\n",
            "Epoch [9/17], Step [300/463], Loss: 0.0038\n",
            "Epoch [9/17], Step [400/463], Loss: 0.0022\n",
            "Epoch [10/17], Step [100/463], Loss: 0.0056\n",
            "Epoch [10/17], Step [200/463], Loss: 0.0135\n",
            "Epoch [10/17], Step [300/463], Loss: 0.0006\n",
            "Epoch [10/17], Step [400/463], Loss: 0.0051\n",
            "Epoch [11/17], Step [100/463], Loss: 0.0006\n",
            "Epoch [11/17], Step [200/463], Loss: 0.0031\n",
            "Epoch [11/17], Step [300/463], Loss: 0.0006\n",
            "Epoch [11/17], Step [400/463], Loss: 0.0034\n",
            "Epoch [12/17], Step [100/463], Loss: 0.0020\n",
            "Epoch [12/17], Step [200/463], Loss: 0.0301\n",
            "Epoch [12/17], Step [300/463], Loss: 0.0070\n",
            "Epoch [12/17], Step [400/463], Loss: 0.0285\n",
            "Epoch [13/17], Step [100/463], Loss: 0.0013\n",
            "Epoch [13/17], Step [200/463], Loss: 0.0009\n",
            "Epoch [13/17], Step [300/463], Loss: 0.0018\n",
            "Epoch [13/17], Step [400/463], Loss: 0.0294\n",
            "Epoch [14/17], Step [100/463], Loss: 0.0031\n",
            "Epoch [14/17], Step [200/463], Loss: 0.0018\n",
            "Epoch [14/17], Step [300/463], Loss: 0.0048\n",
            "Epoch [14/17], Step [400/463], Loss: 0.0046\n",
            "Epoch [15/17], Step [100/463], Loss: 0.0002\n",
            "Epoch [15/17], Step [200/463], Loss: 0.0021\n",
            "Epoch [15/17], Step [300/463], Loss: 0.0098\n",
            "Epoch [15/17], Step [400/463], Loss: 0.0002\n",
            "Epoch [16/17], Step [100/463], Loss: 0.0019\n",
            "Epoch [16/17], Step [200/463], Loss: 0.0001\n",
            "Epoch [16/17], Step [300/463], Loss: 0.0002\n",
            "Epoch [16/17], Step [400/463], Loss: 0.0008\n",
            "Epoch [17/17], Step [100/463], Loss: 0.0030\n",
            "Epoch [17/17], Step [200/463], Loss: 0.0001\n",
            "Epoch [17/17], Step [300/463], Loss: 0.0089\n",
            "Epoch [17/17], Step [400/463], Loss: 0.0023\n",
            "Finished Training Trainset\n"
          ]
        },
        {
          "data": {
            "text/plain": [
              "[<matplotlib.lines.Line2D at 0x7fec60553390>]"
            ]
          },
          "execution_count": 11,
          "metadata": {},
          "output_type": "execute_result"
        },
        {
          "data": {
            "image/png": "[encoded data removed]",
            "text/plain": [
              "<Figure size 432x288 with 1 Axes>"
            ]
          },
          "metadata": {
            "needs_background": "light"
          },
          "output_type": "display_data"
        }
      ],
      "source": [
        "model         = ResNet(ResidualBlock, [3,4,6,3]).to(device)\n",
        "loss_fn       = nn.CrossEntropyLoss()\n",
        "optimizer     = torch.optim.Adagrad(model.parameters(), lr = learning_rate)\n",
        "#loss_train    = train(model, optimizer, loss_fn, num_epochs)\n",
        "#test(model)\n",
        "\n",
        "list_loss = train(model,optimizer,loss_fn,17, train_loader_mod)\n",
        "\n",
        "e = (len(list_loss))\n",
        "epochs = [i + 1 for i in range(e)]\n",
        "plt.title(\"ResNet\")\n",
        "plt.xlabel(\"Epocas\")\n",
        "plt.ylabel(\"Perdida\")\n",
        "plt.plot(epochs,list_loss)\n"
      ]
    },
    {
      "cell_type": "code",
      "execution_count": 12,
      "metadata": {},
      "outputs": [
        {
          "name": "stdout",
          "output_type": "stream",
          "text": [
            "Test Accuracy of the model on the 10000 test images: 93.03435114503817 %\n"
          ]
        }
      ],
      "source": [
        "\n",
        "with torch.no_grad():\n",
        "      correct = 0\n",
        "      total = 0\n",
        "      for images, labels in test_loader_mod:\n",
        "          images = images.to(device)\n",
        "          labels = labels.to(device)\n",
        "          im = torch.unsqueeze(images, dim=1)\n",
        "          im = im.float()\n",
        "          outputs = model(im)\n",
        "          _, predicted = torch.max(outputs.data, 1)\n",
        "          total += labels.size(0)\n",
        "          correct += (predicted == labels).sum().item()\n",
        "      print('Test Accuracy of the model on the 10000 test images: {} %'.format(100 * correct / total))"
      ]
    },
    {
      "cell_type": "code",
      "execution_count": 14,
      "metadata": {},
      "outputs": [],
      "source": [
        "class ResidualBlock_Leak(nn.Module):\n",
        "    def __init__(self, in_channels, out_channels, stride = 1, downsample = None):\n",
        "        super(ResidualBlock_Leak, self).__init__()\n",
        "        self.conv1 = nn.Sequential(\n",
        "                        nn.Conv2d(in_channels, out_channels, kernel_size = 3, stride = stride, padding = 1),\n",
        "                        nn.BatchNorm2d(out_channels),\n",
        "                        nn.LeakyReLU())\n",
        "        self.conv2 = nn.Sequential(\n",
        "                        nn.Conv2d(out_channels, out_channels, kernel_size = 3, stride = 1, padding = 1),\n",
        "                        nn.BatchNorm2d(out_channels))\n",
        "        self.downsample = downsample\n",
        "        self.relu = nn.LeakyReLU()\n",
        "        self.out_channels = out_channels\n",
        "        \n",
        "    def forward(self, x):\n",
        "        residual = x\n",
        "        out = self.conv1(x)\n",
        "        out = self.conv2(out)\n",
        "        if self.downsample:\n",
        "            residual = self.downsample(x)\n",
        "        out += residual\n",
        "        out = self.relu(out)\n",
        "        return out\n",
        "\n",
        "\n",
        "class ResNet_Leak(nn.Module):\n",
        "    def __init__(self, block, layers, num_classes = 4):\n",
        "        super(ResNet_Leak, self).__init__()\n",
        "        self.inplanes = 64\n",
        "        self.conv1 = nn.Sequential(\n",
        "                        nn.Conv2d(1, 64, kernel_size = 7, stride = 2, padding = 3),\n",
        "                        nn.BatchNorm2d(64),\n",
        "                        nn.ReLU())\n",
        "        self.maxpool = nn.MaxPool2d(kernel_size = 3, stride = 2, padding = 1)\n",
        "        self.layer0 = self._make_layer(block, 64, layers[0], stride = 1)\n",
        "        self.layer1 = self._make_layer(block, 128, layers[1], stride = 2)\n",
        "        self.layer2 = self._make_layer(block, 256, layers[2], stride = 2)\n",
        "        self.layer3 = self._make_layer(block, 512, layers[3], stride = 2)\n",
        "        self.avgpool = nn.AvgPool2d(7, stride=1)\n",
        "        self.fc = nn.Linear(512, num_classes)\n",
        "        \n",
        "    def _make_layer(self, block, planes, blocks, stride=1):\n",
        "        downsample = None\n",
        "        if stride != 1 or self.inplanes != planes:\n",
        "            \n",
        "            downsample = nn.Sequential(\n",
        "                nn.Conv2d(self.inplanes, planes, kernel_size=1, stride=stride),\n",
        "                nn.BatchNorm2d(planes),\n",
        "            )\n",
        "        layers = []\n",
        "        layers.append(block(self.inplanes, planes, stride, downsample))\n",
        "        self.inplanes = planes\n",
        "        for i in range(1, blocks):\n",
        "            layers.append(block(self.inplanes, planes))\n",
        "\n",
        "        return nn.Sequential(*layers)\n",
        "    \n",
        "    \n",
        "    def forward(self, x):\n",
        "        x = self.conv1(x)\n",
        "        x = self.maxpool(x)\n",
        "        x = self.layer0(x)\n",
        "        x = self.layer1(x)\n",
        "        x = self.layer2(x)\n",
        "        x = self.layer3(x)\n",
        "\n",
        "        x = self.avgpool(x)\n",
        "        x = x.view(x.size(0), -1)\n",
        "        x = self.fc(x)\n",
        "\n",
        "        return x"
      ]
    },
    {
      "cell_type": "code",
      "execution_count": 18,
      "metadata": {},
      "outputs": [
        {
          "ename": "RuntimeError",
          "evalue": "CUDA error: unknown error\nCUDA kernel errors might be asynchronously reported at some other API call,so the stacktrace below might be incorrect.\nFor debugging consider passing CUDA_LAUNCH_BLOCKING=1.",
          "output_type": "error",
          "traceback": [
            "\u001b[0;31m---------------------------------------------------------------------------\u001b[0m",
            "\u001b[0;31mRuntimeError\u001b[0m                              Traceback (most recent call last)",
            "\u001b[0;32m/tmp/ipykernel_210/4142238574.py\u001b[0m in \u001b[0;36m<module>\u001b[0;34m\u001b[0m\n\u001b[1;32m      6\u001b[0m \u001b[0;31m#test(model)\u001b[0m\u001b[0;34m\u001b[0m\u001b[0;34m\u001b[0m\u001b[0;34m\u001b[0m\u001b[0m\n\u001b[1;32m      7\u001b[0m \u001b[0;34m\u001b[0m\u001b[0m\n\u001b[0;32m----> 8\u001b[0;31m \u001b[0mlist_loss\u001b[0m \u001b[0;34m=\u001b[0m \u001b[0mtrain\u001b[0m\u001b[0;34m(\u001b[0m\u001b[0mmodel\u001b[0m\u001b[0;34m,\u001b[0m\u001b[0moptimizer\u001b[0m\u001b[0;34m,\u001b[0m\u001b[0mloss_fn\u001b[0m\u001b[0;34m,\u001b[0m\u001b[0;36m13\u001b[0m\u001b[0;34m,\u001b[0m \u001b[0mtrain_loader_mod\u001b[0m\u001b[0;34m)\u001b[0m\u001b[0;34m\u001b[0m\u001b[0;34m\u001b[0m\u001b[0m\n\u001b[0m\u001b[1;32m      9\u001b[0m \u001b[0;34m\u001b[0m\u001b[0m\n\u001b[1;32m     10\u001b[0m \u001b[0me\u001b[0m \u001b[0;34m=\u001b[0m \u001b[0;34m(\u001b[0m\u001b[0mlen\u001b[0m\u001b[0;34m(\u001b[0m\u001b[0mlist_loss\u001b[0m\u001b[0;34m)\u001b[0m\u001b[0;34m)\u001b[0m\u001b[0;34m\u001b[0m\u001b[0;34m\u001b[0m\u001b[0m\n",
            "\u001b[0;32m/tmp/ipykernel_210/3114817490.py\u001b[0m in \u001b[0;36mtrain\u001b[0;34m(model, optimizer, loos_fn, num_epochs, train_loader)\u001b[0m\n\u001b[1;32m     20\u001b[0m       \u001b[0;31m# change the params\u001b[0m\u001b[0;34m\u001b[0m\u001b[0;34m\u001b[0m\u001b[0;34m\u001b[0m\u001b[0m\n\u001b[1;32m     21\u001b[0m       \u001b[0moptimizer\u001b[0m\u001b[0;34m.\u001b[0m\u001b[0mzero_grad\u001b[0m\u001b[0;34m(\u001b[0m\u001b[0;34m)\u001b[0m\u001b[0;34m\u001b[0m\u001b[0;34m\u001b[0m\u001b[0m\n\u001b[0;32m---> 22\u001b[0;31m       \u001b[0mloss\u001b[0m\u001b[0;34m.\u001b[0m\u001b[0mbackward\u001b[0m\u001b[0;34m(\u001b[0m\u001b[0;34m)\u001b[0m\u001b[0;34m\u001b[0m\u001b[0;34m\u001b[0m\u001b[0m\n\u001b[0m\u001b[1;32m     23\u001b[0m       \u001b[0moptimizer\u001b[0m\u001b[0;34m.\u001b[0m\u001b[0mstep\u001b[0m\u001b[0;34m(\u001b[0m\u001b[0;34m)\u001b[0m\u001b[0;34m\u001b[0m\u001b[0;34m\u001b[0m\u001b[0m\n\u001b[1;32m     24\u001b[0m \u001b[0;34m\u001b[0m\u001b[0m\n",
            "\u001b[0;32m~/anaconda3/envs/utec-bigdata-2022-1/lib/python3.7/site-packages/torch/_tensor.py\u001b[0m in \u001b[0;36mbackward\u001b[0;34m(self, gradient, retain_graph, create_graph, inputs)\u001b[0m\n\u001b[1;32m    361\u001b[0m                 \u001b[0mcreate_graph\u001b[0m\u001b[0;34m=\u001b[0m\u001b[0mcreate_graph\u001b[0m\u001b[0;34m,\u001b[0m\u001b[0;34m\u001b[0m\u001b[0;34m\u001b[0m\u001b[0m\n\u001b[1;32m    362\u001b[0m                 inputs=inputs)\n\u001b[0;32m--> 363\u001b[0;31m         \u001b[0mtorch\u001b[0m\u001b[0;34m.\u001b[0m\u001b[0mautograd\u001b[0m\u001b[0;34m.\u001b[0m\u001b[0mbackward\u001b[0m\u001b[0;34m(\u001b[0m\u001b[0mself\u001b[0m\u001b[0;34m,\u001b[0m \u001b[0mgradient\u001b[0m\u001b[0;34m,\u001b[0m \u001b[0mretain_graph\u001b[0m\u001b[0;34m,\u001b[0m \u001b[0mcreate_graph\u001b[0m\u001b[0;34m,\u001b[0m \u001b[0minputs\u001b[0m\u001b[0;34m=\u001b[0m\u001b[0minputs\u001b[0m\u001b[0;34m)\u001b[0m\u001b[0;34m\u001b[0m\u001b[0;34m\u001b[0m\u001b[0m\n\u001b[0m\u001b[1;32m    364\u001b[0m \u001b[0;34m\u001b[0m\u001b[0m\n\u001b[1;32m    365\u001b[0m     \u001b[0;32mdef\u001b[0m \u001b[0mregister_hook\u001b[0m\u001b[0;34m(\u001b[0m\u001b[0mself\u001b[0m\u001b[0;34m,\u001b[0m \u001b[0mhook\u001b[0m\u001b[0;34m)\u001b[0m\u001b[0;34m:\u001b[0m\u001b[0;34m\u001b[0m\u001b[0;34m\u001b[0m\u001b[0m\n",
            "\u001b[0;32m~/anaconda3/envs/utec-bigdata-2022-1/lib/python3.7/site-packages/torch/autograd/__init__.py\u001b[0m in \u001b[0;36mbackward\u001b[0;34m(tensors, grad_tensors, retain_graph, create_graph, grad_variables, inputs)\u001b[0m\n\u001b[1;32m    173\u001b[0m     Variable._execution_engine.run_backward(  # Calls into the C++ engine to run the backward pass\n\u001b[1;32m    174\u001b[0m         \u001b[0mtensors\u001b[0m\u001b[0;34m,\u001b[0m \u001b[0mgrad_tensors_\u001b[0m\u001b[0;34m,\u001b[0m \u001b[0mretain_graph\u001b[0m\u001b[0;34m,\u001b[0m \u001b[0mcreate_graph\u001b[0m\u001b[0;34m,\u001b[0m \u001b[0minputs\u001b[0m\u001b[0;34m,\u001b[0m\u001b[0;34m\u001b[0m\u001b[0;34m\u001b[0m\u001b[0m\n\u001b[0;32m--> 175\u001b[0;31m         allow_unreachable=True, accumulate_grad=True)  # Calls into the C++ engine to run the backward pass\n\u001b[0m\u001b[1;32m    176\u001b[0m \u001b[0;34m\u001b[0m\u001b[0m\n\u001b[1;32m    177\u001b[0m def grad(\n",
            "\u001b[0;31mRuntimeError\u001b[0m: CUDA error: unknown error\nCUDA kernel errors might be asynchronously reported at some other API call,so the stacktrace below might be incorrect.\nFor debugging consider passing CUDA_LAUNCH_BLOCKING=1."
          ]
        }
      ],
      "source": [
        "model         = ResNet_Leak(ResidualBlock_Leak, [3,4,5,3])\n",
        "model.to(device)\n",
        "loss_fn       = nn.CrossEntropyLoss()\n",
        "optimizer     = torch.optim.Adam(model.parameters(), lr = learning_rate)\n",
        "#loss_train    = train(model, optimizer, loss_fn, num_epochs)\n",
        "#test(model)\n",
        "\n",
        "list_loss = train(model,optimizer,loss_fn,13, train_loader_mod)\n",
        "\n",
        "e = (len(list_loss))\n",
        "epochs = [i + 1 for i in range(e)]\n",
        "plt.title(\"ResNet\")\n",
        "plt.xlabel(\"Epocas\")\n",
        "plt.ylabel(\"Perdida\")\n",
        "plt.plot(epochs,list_loss)"
      ]
    },
    {
      "cell_type": "code",
      "execution_count": null,
      "metadata": {},
      "outputs": [],
      "source": [
        "\n",
        "with torch.no_grad():\n",
        "      correct = 0\n",
        "      total = 0\n",
        "      for images, labels in test_loader_alex:\n",
        "          images = images.to(device)\n",
        "          labels = labels.to(device)\n",
        "          im = torch.unsqueeze(images, dim=1)\n",
        "          im = im.float()\n",
        "          outputs = model(im)\n",
        "          _, predicted = torch.max(outputs.data, 1)\n",
        "          total += labels.size(0)\n",
        "          correct += (predicted == labels).sum().item()\n",
        "      print('Test Accuracy of the model on the 10000 test images: {} %'.format(100 * correct / total))"
      ]
    },
    {
      "cell_type": "code",
      "execution_count": null,
      "metadata": {},
      "outputs": [],
      "source": [
        "model         = ResNet_Leak(ResidualBlock_Leak, [3,4,6,3]).to(device)\n",
        "loss_fn       = nn.CrossEntropyLoss()\n",
        "optimizer     = torch.optim.NAdam(model.parameters(), lr = learning_rate)\n",
        "#loss_train    = train(model, optimizer, loss_fn, num_epochs)\n",
        "#test(model)\n",
        "\n",
        "list_loss = train(model,optimizer,loss_fn,13, train_loader_alex)\n",
        "\n",
        "e = (len(list_loss))\n",
        "epochs = [i + 1 for i in range(e)]\n",
        "plt.title(\"ResNet\")\n",
        "plt.xlabel(\"Epocas\")\n",
        "plt.ylabel(\"Perdida\")\n",
        "plt.plot(epochs,list_loss)"
      ]
    },
    {
      "cell_type": "code",
      "execution_count": null,
      "metadata": {},
      "outputs": [],
      "source": [
        "\n",
        "with torch.no_grad():\n",
        "      correct = 0\n",
        "      total = 0\n",
        "      for images, labels in test_loader_alex:\n",
        "          images = images.to(device)\n",
        "          labels = labels.to(device)\n",
        "          im = torch.unsqueeze(images, dim=1)\n",
        "          im = im.float()\n",
        "          outputs = model(im)\n",
        "          _, predicted = torch.max(outputs.data, 1)\n",
        "          total += labels.size(0)\n",
        "          correct += (predicted == labels).sum().item()\n",
        "      print('Test Accuracy of the model on the 10000 test images: {} %'.format(100 * correct / total))"
      ]
    },
    {
      "cell_type": "code",
      "execution_count": null,
      "metadata": {},
      "outputs": [],
      "source": [
        "model         = ResNet_Leak(ResidualBlock_Leak, [3,4,6,3]).to(device)\n",
        "loss_fn       = nn.CrossEntropyLoss()\n",
        "optimizer     = torch.optim.Adadelta(model.parameters(), lr = learning_rate)\n",
        "#loss_train    = train(model, optimizer, loss_fn, num_epochs)\n",
        "#test(model)\n",
        "\n",
        "list_loss = train(model,optimizer,loss_fn,13, train_loader_alex)\n",
        "\n",
        "e = (len(list_loss))\n",
        "epochs = [i + 1 for i in range(e)]\n",
        "plt.title(\"ResNet\")\n",
        "plt.xlabel(\"Epocas\")\n",
        "plt.ylabel(\"Perdida\")\n",
        "plt.plot(epochs,list_loss)"
      ]
    },
    {
      "cell_type": "code",
      "execution_count": null,
      "metadata": {},
      "outputs": [],
      "source": [
        "\n",
        "with torch.no_grad():\n",
        "      correct = 0\n",
        "      total = 0\n",
        "      for images, labels in test_loader_alex:\n",
        "          images = images.to(device)\n",
        "          labels = labels.to(device)\n",
        "          im = torch.unsqueeze(images, dim=1)\n",
        "          im = im.float()\n",
        "          outputs = model(im)\n",
        "          _, predicted = torch.max(outputs.data, 1)\n",
        "          total += labels.size(0)\n",
        "          correct += (predicted == labels).sum().item()\n",
        "      print('Test Accuracy of the model on the 10000 test images: {} %'.format(100 * correct / total))"
      ]
    },
    {
      "cell_type": "code",
      "execution_count": null,
      "metadata": {},
      "outputs": [],
      "source": [
        "model         = ResNet_Leak(ResidualBlock_Leak, [3,4,6,3]).to(device)\n",
        "loss_fn       = nn.CrossEntropyLoss()\n",
        "optimizer     = torch.optim.Adagrad(model.parameters(), lr = learning_rate)\n",
        "#loss_train    = train(model, optimizer, loss_fn, num_epochs)\n",
        "#test(model)\n",
        "\n",
        "list_loss = train(model,optimizer,loss_fn,13, train_loader_alex)\n",
        "\n",
        "e = (len(list_loss))\n",
        "epochs = [i + 1 for i in range(e)]\n",
        "plt.title(\"ResNet\")\n",
        "plt.xlabel(\"Epocas\")\n",
        "plt.ylabel(\"Perdida\")\n",
        "plt.plot(epochs,list_loss)"
      ]
    },
    {
      "cell_type": "code",
      "execution_count": null,
      "metadata": {},
      "outputs": [],
      "source": [
        "\n",
        "with torch.no_grad():\n",
        "      correct = 0\n",
        "      total = 0\n",
        "      for images, labels in test_loader_alex:\n",
        "          images = images.to(device)\n",
        "          labels = labels.to(device)\n",
        "          im = torch.unsqueeze(images, dim=1)\n",
        "          im = im.float()\n",
        "          outputs = model(im)\n",
        "          _, predicted = torch.max(outputs.data, 1)\n",
        "          total += labels.size(0)\n",
        "          correct += (predicted == labels).sum().item()\n",
        "      print('Test Accuracy of the model on the 10000 test images: {} %'.format(100 * correct / total))"
      ]
    }
  ],
  "metadata": {
    "accelerator": "GPU",
    "colab": {
      "provenance": []
    },
    "gpuClass": "standard",
    "kernelspec": {
      "display_name": "Python 3.7.13 ('utec-bigdata-2022-1')",
      "language": "python",
      "name": "python3"
    },
    "language_info": {
      "codemirror_mode": {
        "name": "ipython",
        "version": 3
      },
      "file_extension": ".py",
      "mimetype": "text/x-python",
      "name": "python",
      "nbconvert_exporter": "python",
      "pygments_lexer": "ipython3",
      "version": "3.7.13"
    },
    "vscode": {
      "interpreter": {
        "hash": "e146a7c8db47b7d6a600e3a8172f74ea4c64d7b2c259abeab4f3f90ee806f434"
      }
    }
  },
  "nbformat": 4,
  "nbformat_minor": 0
}
